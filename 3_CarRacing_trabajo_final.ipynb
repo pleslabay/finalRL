{
 "cells": [
  {
   "cell_type": "raw",
   "metadata": {},
   "source": [
    "!pip install pyvirtualdisplay\n",
    "!pip install moviepy\n",
    "!pip install gym\n",
    "!pip install xvfbwrapper\n",
    "!pip install box2d-py\n"
   ]
  },
  {
   "cell_type": "markdown",
   "metadata": {},
   "source": [
    "https://notanymike.github.io/Solving-CarRacing/"
   ]
  },
  {
   "cell_type": "code",
   "execution_count": 1,
   "metadata": {},
   "outputs": [],
   "source": [
    "import gym\n",
    "import moviepy.editor as mpy\n",
    "import os\n",
    "from pyvirtualdisplay import Display"
   ]
  },
  {
   "cell_type": "code",
   "execution_count": 2,
   "metadata": {},
   "outputs": [],
   "source": [
    "display = Display(visible=0, size=(1024, 768))\n",
    "display.start()\n",
    "\n",
    "os.environ[\"DISPLAY\"] = \":\" + str(display.display) + \".\" + str(display.screen)\n"
   ]
  },
  {
   "cell_type": "code",
   "execution_count": 3,
   "metadata": {},
   "outputs": [],
   "source": [
    "from matplotlib import pyplot as plt\n",
    "from IPython.display import clear_output\n",
    "import numpy as np"
   ]
  },
  {
   "cell_type": "code",
   "execution_count": 4,
   "metadata": {},
   "outputs": [],
   "source": [
    "from gym.envs.box2d.car_dynamics import Car\n",
    "from gym.envs.box2d import CarRacing"
   ]
  },
  {
   "cell_type": "code",
   "execution_count": 5,
   "metadata": {},
   "outputs": [],
   "source": [
    "env = gym.make('CarRacing-v0')"
   ]
  },
  {
   "cell_type": "code",
   "execution_count": 6,
   "metadata": {},
   "outputs": [
    {
     "data": {
      "text/plain": [
       "Box(3,)"
      ]
     },
     "execution_count": 6,
     "metadata": {},
     "output_type": "execute_result"
    }
   ],
   "source": [
    "env.action_space"
   ]
  },
  {
   "cell_type": "code",
   "execution_count": 7,
   "metadata": {},
   "outputs": [
    {
     "data": {
      "text/plain": [
       "(array([1., 1., 1.], dtype=float32), array([-1.,  0.,  0.], dtype=float32))"
      ]
     },
     "execution_count": 7,
     "metadata": {},
     "output_type": "execute_result"
    }
   ],
   "source": [
    "env.action_space.high, env.action_space.low"
   ]
  },
  {
   "cell_type": "raw",
   "metadata": {},
   "source": [
    "Discrete action → Continous action\n",
    "Turn_left       →[ -1.0, 0.0, 0.0 ]\n",
    "Turn_right      →[ 1.0, 0.0, 0.0 ]\n",
    "Brake           →[ 0.0, 0.0, 1.0 ]\n",
    "Accelerate      →[ 0.0, 1.0, 0.0 ]\n",
    "Do-Nothing      →[ 0.0, 0.0, 0.0 ]"
   ]
  },
  {
   "cell_type": "code",
   "execution_count": 8,
   "metadata": {},
   "outputs": [],
   "source": [
    "def get_random_action():\n",
    "    action = np.random.random(3)\n",
    "    action[0] = action[0]*2-1\n",
    "    return action"
   ]
  },
  {
   "cell_type": "code",
   "execution_count": 9,
   "metadata": {},
   "outputs": [
    {
     "data": {
      "text/plain": [
       "array([-0.64452008,  0.71860216,  0.83876886])"
      ]
     },
     "execution_count": 9,
     "metadata": {},
     "output_type": "execute_result"
    }
   ],
   "source": [
    "get_random_action()"
   ]
  },
  {
   "cell_type": "code",
   "execution_count": 10,
   "metadata": {},
   "outputs": [],
   "source": [
    "def get_discrete_random_action():\n",
    "    action = np.random.randint(2, size=3)\n",
    "    action[0] = action[0]*2-1\n",
    "    return action"
   ]
  },
  {
   "cell_type": "code",
   "execution_count": 11,
   "metadata": {},
   "outputs": [
    {
     "data": {
      "text/plain": [
       "array([1, 1, 0])"
      ]
     },
     "execution_count": 11,
     "metadata": {},
     "output_type": "execute_result"
    }
   ],
   "source": [
    "get_discrete_random_action()"
   ]
  },
  {
   "cell_type": "code",
   "execution_count": 12,
   "metadata": {},
   "outputs": [
    {
     "data": {
      "image/png": "[encoded data removed]",
      "text/plain": [
       "<Figure size 432x288 with 1 Axes>"
      ]
     },
     "metadata": {
      "needs_background": "light"
     },
     "output_type": "display_data"
    },
    {
     "name": "stdout",
     "output_type": "stream",
     "text": [
      "\r",
      "-0.1, False, {}, 0.10101010101011237, 100"
     ]
    }
   ],
   "source": [
    "n=100\n",
    "episode = 0\n",
    "\n",
    "done = False\n",
    "total_reward = 0\n",
    "rewards = []\n",
    "total_rewards = []\n",
    "\n",
    "obs = env.reset()\n",
    "while episode<n:\n",
    "    obs, reward, done, info = env.step(get_discrete_random_action())\n",
    "    rewards.append(reward)\n",
    "    total_reward += reward\n",
    "    total_rewards.append(total_reward)\n",
    "    clear_output(wait=True)\n",
    "    plt.imshow(obs)\n",
    "    plt.show()\n",
    "    episode+=1\n",
    "    print(f'\\r{reward}, {done}, {info}, {total_reward}, {episode}', end='')"
   ]
  },
  {
   "cell_type": "code",
   "execution_count": 13,
   "metadata": {},
   "outputs": [
    {
     "data": {
      "text/plain": [
       "[<matplotlib.lines.Line2D at 0x7f256d7f56d0>]"
      ]
     },
     "execution_count": 13,
     "metadata": {},
     "output_type": "execute_result"
    },
    {
     "data": {
      "image/png": "[encoded data removed]",
      "text/plain": [
       "<Figure size 432x288 with 1 Axes>"
      ]
     },
     "metadata": {
      "needs_background": "light"
     },
     "output_type": "display_data"
    }
   ],
   "source": [
    "plt.plot(rewards[:n])\n",
    "plt.plot(total_rewards[:n])"
   ]
  },
  {
   "cell_type": "code",
   "execution_count": 14,
   "metadata": {},
   "outputs": [
    {
     "data": {
      "image/png": "[encoded data removed]",
      "text/plain": [
       "<Figure size 432x288 with 1 Axes>"
      ]
     },
     "metadata": {
      "needs_background": "light"
     },
     "output_type": "display_data"
    },
    {
     "name": "stdout",
     "output_type": "stream",
     "text": [
      "\r",
      "-100, True, {}, -60.18260869565246, 255"
     ]
    }
   ],
   "source": [
    "episode = 0\n",
    "\n",
    "done = False\n",
    "total_reward = 0\n",
    "rewards = []\n",
    "total_rewards = []\n",
    "\n",
    "obs = env.reset()\n",
    "for ii in range(50):\n",
    "    env.step([0,  0,  0])\n",
    "\n",
    "while not done:\n",
    "    obs, reward, done, info = env.step([0,  0.75,  0])\n",
    "    rewards.append(reward)\n",
    "    total_reward += reward\n",
    "    total_rewards.append(total_reward)\n",
    "    clear_output(wait=True)\n",
    "    plt.imshow(obs)\n",
    "    plt.show()\n",
    "    episode+=1\n",
    "    print(f'\\r{reward}, {done}, {info}, {total_reward}, {episode}', end='')\n",
    "#     print(obs_step[1], obs_step[2], obs_step[3])"
   ]
  },
  {
   "cell_type": "code",
   "execution_count": 15,
   "metadata": {},
   "outputs": [
    {
     "data": {
      "text/plain": [
       "[<matplotlib.lines.Line2D at 0x7f25503f9650>]"
      ]
     },
     "execution_count": 15,
     "metadata": {},
     "output_type": "execute_result"
    },
    {
     "data": {
      "image/png": "[encoded data removed]",
      "text/plain": [
       "<Figure size 432x288 with 1 Axes>"
      ]
     },
     "metadata": {
      "needs_background": "light"
     },
     "output_type": "display_data"
    }
   ],
   "source": [
    "plt.plot(rewards[:episode])\n",
    "plt.plot(total_rewards[:episode-1])"
   ]
  },
  {
   "cell_type": "code",
   "execution_count": 16,
   "metadata": {},
   "outputs": [
    {
     "data": {
      "text/plain": [
       "[<matplotlib.lines.Line2D at 0x7f25501750d0>]"
      ]
     },
     "execution_count": 16,
     "metadata": {},
     "output_type": "execute_result"
    },
    {
     "data": {
      "image/png": "[encoded data removed]",
      "text/plain": [
       "<Figure size 432x288 with 1 Axes>"
      ]
     },
     "metadata": {
      "needs_background": "light"
     },
     "output_type": "display_data"
    }
   ],
   "source": [
    "plt.plot(rewards[:episode-1], marker='x')"
   ]
  },
  {
   "cell_type": "code",
   "execution_count": 17,
   "metadata": {},
   "outputs": [
    {
     "data": {
      "text/plain": [
       "[-0.10000000000000009,\n",
       " -0.10000000000000009,\n",
       " -0.10000000000000009,\n",
       " -0.10000000000000009,\n",
       " -0.10000000000000009,\n",
       " -0.10000000000000009,\n",
       " -0.10000000000000009,\n",
       " -0.10000000000000009,\n",
       " -0.10000000000000009,\n",
       " -0.10000000000000009,\n",
       " -0.10000000000000009,\n",
       " 3.5231884057971015,\n",
       " -0.09999999999999964,\n",
       " -0.09999999999999964,\n",
       " -0.09999999999999964,\n",
       " -0.09999999999999964,\n",
       " -0.09999999999999964,\n",
       " -0.09999999999999964,\n",
       " -0.09999999999999964,\n",
       " -0.09999999999999964,\n",
       " -0.09999999999999964,\n",
       " -0.09999999999999964,\n",
       " 3.523188405797102,\n",
       " -0.09999999999999964,\n",
       " -0.09999999999999964,\n",
       " -0.09999999999999964,\n",
       " -0.09999999999999964,\n",
       " -0.09999999999999964,\n",
       " -0.09999999999999964,\n",
       " 3.523188405797102,\n",
       " -0.09999999999999964,\n",
       " -0.09999999999999964,\n",
       " -0.09999999999999964,\n",
       " -0.09999999999999964,\n",
       " -0.09999999999999964,\n",
       " 3.523188405797102,\n",
       " -0.09999999999999964,\n",
       " -0.09999999999999964,\n",
       " -0.09999999999999964,\n",
       " -0.09999999999999964,\n",
       " 3.523188405797102,\n",
       " -0.10000000000000142,\n",
       " -0.10000000000000142,\n",
       " -0.10000000000000142,\n",
       " 3.5231884057971,\n",
       " -0.10000000000000142,\n",
       " -0.10000000000000142,\n",
       " -0.10000000000000142,\n",
       " -0.10000000000000142,\n",
       " 3.5231884057971,\n",
       " -0.10000000000000142,\n",
       " -0.10000000000000142,\n",
       " 3.5231884057971,\n",
       " -0.10000000000000142,\n",
       " -0.10000000000000142,\n",
       " -0.10000000000000142,\n",
       " 3.5231884057971,\n",
       " -0.10000000000000142,\n",
       " -0.10000000000000142,\n",
       " 3.5231884057971,\n",
       " -0.10000000000000142,\n",
       " -0.10000000000000142,\n",
       " 3.5231884057971,\n",
       " -0.10000000000000142,\n",
       " -0.10000000000000142,\n",
       " 3.5231884057971,\n",
       " -0.10000000000000142,\n",
       " -0.10000000000000142,\n",
       " 3.5231884057971,\n",
       " -0.10000000000000142,\n",
       " -0.10000000000000142,\n",
       " 3.5231884057971,\n",
       " -0.10000000000000142,\n",
       " -0.10000000000000142,\n",
       " 3.5231884057971,\n",
       " -0.10000000000000142,\n",
       " 3.5231884057971,\n",
       " -0.10000000000000142,\n",
       " -0.10000000000000142,\n",
       " 3.5231884057971,\n",
       " -0.10000000000000142,\n",
       " -0.10000000000000142,\n",
       " 3.5231884057971,\n",
       " -0.10000000000000142,\n",
       " -0.10000000000000142,\n",
       " -0.10000000000000142,\n",
       " -0.10000000000000142,\n",
       " -0.10000000000000142,\n",
       " -0.10000000000000142,\n",
       " -0.10000000000000142,\n",
       " -0.10000000000000142,\n",
       " -0.10000000000000142,\n",
       " -0.10000000000000142,\n",
       " -0.10000000000000142,\n",
       " -0.10000000000000142,\n",
       " -0.10000000000000142,\n",
       " -0.10000000000000142,\n",
       " -0.10000000000000142,\n",
       " -0.10000000000000142,\n",
       " -0.10000000000000142,\n",
       " -0.10000000000000142,\n",
       " -0.10000000000000142,\n",
       " -0.10000000000000142,\n",
       " -0.10000000000000142,\n",
       " -0.10000000000000142,\n",
       " -0.10000000000000142,\n",
       " -0.10000000000000142,\n",
       " -0.10000000000000142,\n",
       " -0.10000000000000142,\n",
       " -0.10000000000000142,\n",
       " -0.10000000000000142,\n",
       " -0.10000000000000142,\n",
       " -0.10000000000000142,\n",
       " -0.10000000000000142,\n",
       " -0.10000000000000142,\n",
       " -0.10000000000000142,\n",
       " -0.10000000000000142,\n",
       " -0.10000000000000142,\n",
       " -0.10000000000000142,\n",
       " -0.10000000000000142,\n",
       " -0.10000000000000142,\n",
       " -0.10000000000000142,\n",
       " -0.10000000000000142,\n",
       " -0.10000000000000142,\n",
       " -0.10000000000000142,\n",
       " -0.10000000000000142,\n",
       " -0.10000000000000142,\n",
       " -0.10000000000000142,\n",
       " -0.10000000000000142,\n",
       " -0.10000000000000142,\n",
       " -0.10000000000000142,\n",
       " -0.10000000000000142,\n",
       " -0.10000000000000142,\n",
       " -0.10000000000000142,\n",
       " -0.10000000000000142,\n",
       " -0.10000000000000142,\n",
       " -0.10000000000000142,\n",
       " -0.10000000000000142,\n",
       " -0.10000000000000142,\n",
       " -0.10000000000000142,\n",
       " -0.10000000000000142,\n",
       " -0.10000000000000142,\n",
       " -0.10000000000000142,\n",
       " -0.10000000000000142,\n",
       " -0.10000000000000142,\n",
       " -0.10000000000000142,\n",
       " -0.10000000000000142,\n",
       " -0.10000000000000142,\n",
       " -0.10000000000000142,\n",
       " -0.10000000000000142,\n",
       " -0.10000000000000142,\n",
       " -0.10000000000000142,\n",
       " -0.10000000000000142,\n",
       " -0.10000000000000142,\n",
       " -0.10000000000000142,\n",
       " -0.10000000000000142,\n",
       " -0.10000000000000142,\n",
       " -0.10000000000000142,\n",
       " -0.10000000000000142,\n",
       " -0.10000000000000142,\n",
       " -0.10000000000000142,\n",
       " -0.10000000000000142,\n",
       " -0.10000000000000142,\n",
       " -0.10000000000000142,\n",
       " -0.10000000000000142,\n",
       " -0.10000000000000142,\n",
       " -0.10000000000000142,\n",
       " -0.10000000000000142,\n",
       " -0.10000000000000142,\n",
       " -0.10000000000000142,\n",
       " -0.10000000000000142,\n",
       " -0.10000000000000142,\n",
       " -0.10000000000000142,\n",
       " -0.10000000000000142,\n",
       " -0.10000000000000142,\n",
       " -0.10000000000000142,\n",
       " -0.10000000000000142,\n",
       " -0.10000000000000142,\n",
       " -0.10000000000000142,\n",
       " -0.10000000000000142,\n",
       " -0.10000000000000142,\n",
       " -0.10000000000000142,\n",
       " -0.10000000000000142,\n",
       " -0.10000000000000142,\n",
       " -0.10000000000000142,\n",
       " -0.10000000000000142,\n",
       " -0.10000000000000142,\n",
       " -0.10000000000000142,\n",
       " -0.10000000000000142,\n",
       " -0.10000000000000142,\n",
       " -0.10000000000000142,\n",
       " -0.10000000000000142,\n",
       " -0.10000000000000142,\n",
       " -0.10000000000000142,\n",
       " -0.10000000000000142,\n",
       " -0.10000000000000142,\n",
       " -0.10000000000000142,\n",
       " -0.10000000000000142,\n",
       " -0.10000000000000142,\n",
       " -0.10000000000000142,\n",
       " -0.10000000000000142,\n",
       " -0.10000000000000142,\n",
       " -0.10000000000000142,\n",
       " -0.10000000000000142,\n",
       " -0.10000000000000142,\n",
       " -0.10000000000000142,\n",
       " -0.10000000000000142,\n",
       " -0.10000000000000142,\n",
       " -0.10000000000000142,\n",
       " -0.10000000000000142,\n",
       " -0.10000000000000142,\n",
       " -0.10000000000000142,\n",
       " -0.10000000000000142,\n",
       " -0.10000000000000142,\n",
       " -0.10000000000000142,\n",
       " -0.10000000000000142,\n",
       " -0.10000000000000142,\n",
       " -0.10000000000000142,\n",
       " -0.10000000000000142,\n",
       " -0.10000000000000142,\n",
       " -0.10000000000000142,\n",
       " -0.10000000000000142,\n",
       " -0.10000000000000142,\n",
       " -0.10000000000000142,\n",
       " -0.10000000000000142,\n",
       " -0.10000000000000142,\n",
       " -0.10000000000000142,\n",
       " -0.10000000000000142,\n",
       " -0.10000000000000142,\n",
       " -0.10000000000000142,\n",
       " -0.10000000000000142,\n",
       " -0.10000000000000142,\n",
       " -0.10000000000000142,\n",
       " -0.10000000000000142,\n",
       " -0.10000000000000142,\n",
       " -0.10000000000000142,\n",
       " -0.10000000000000142,\n",
       " -0.10000000000000142,\n",
       " -0.10000000000000142,\n",
       " -0.10000000000000142,\n",
       " -0.10000000000000142,\n",
       " -0.10000000000000142,\n",
       " -0.10000000000000142,\n",
       " -0.10000000000000142,\n",
       " -0.10000000000000142,\n",
       " -0.10000000000000142,\n",
       " -0.10000000000000142,\n",
       " -0.10000000000000142,\n",
       " -0.10000000000000142,\n",
       " -0.10000000000000142,\n",
       " -0.10000000000000142,\n",
       " -0.10000000000000142,\n",
       " -0.10000000000000142,\n",
       " -0.10000000000000142,\n",
       " -100]"
      ]
     },
     "execution_count": 17,
     "metadata": {},
     "output_type": "execute_result"
    }
   ],
   "source": [
    "rewards"
   ]
  },
  {
   "cell_type": "code",
   "execution_count": null,
   "metadata": {},
   "outputs": [],
   "source": []
  }
 ],
 "metadata": {
  "kernelspec": {
   "display_name": "Python [conda env:rl]",
   "language": "python",
   "name": "conda-env-rl-py"
  },
  "language_info": {
   "codemirror_mode": {
    "name": "ipython",
    "version": 3
   },
   "file_extension": ".py",
   "mimetype": "text/x-python",
   "name": "python",
   "nbconvert_exporter": "python",
   "pygments_lexer": "ipython3",
   "version": "3.7.7"
  }
 },
 "nbformat": 4,
 "nbformat_minor": 2
}
