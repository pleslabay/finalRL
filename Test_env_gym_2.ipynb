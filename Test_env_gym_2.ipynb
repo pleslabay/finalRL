{
 "cells": [
  {
   "cell_type": "code",
   "execution_count": 1,
   "metadata": {},
   "outputs": [
    {
     "name": "stderr",
     "output_type": "stream",
     "text": [
      "/home/pablo/anaconda3/envs/rl/lib/python3.7/site-packages/gym/logger.py:30: UserWarning: \u001b[33mWARN: Box bound precision lowered by casting to float32\u001b[0m\n",
      "  warnings.warn(colorize('%s: %s'%('WARN', msg % args), 'yellow'))\n"
     ]
    }
   ],
   "source": [
    "import gym\n",
    "env = gym.make('CarRacing-v0')\n"
   ]
  },
  {
   "cell_type": "code",
   "execution_count": 2,
   "metadata": {},
   "outputs": [
    {
     "name": "stdout",
     "output_type": "stream",
     "text": [
      "Track generation: 1029..1299 -> 270-tiles track\n"
     ]
    }
   ],
   "source": [
    "obs = env.reset()"
   ]
  },
  {
   "cell_type": "code",
   "execution_count": 3,
   "metadata": {},
   "outputs": [
    {
     "data": {
      "text/plain": [
       "(96, 96, 3)"
      ]
     },
     "execution_count": 3,
     "metadata": {},
     "output_type": "execute_result"
    }
   ],
   "source": [
    "obs.shape"
   ]
  },
  {
   "cell_type": "code",
   "execution_count": 4,
   "metadata": {},
   "outputs": [],
   "source": [
    "for i in range(30):\n",
    "    obs,rew,_,_=env.step([0,  0,  0])\n",
    "#    env.render()"
   ]
  },
  {
   "cell_type": "code",
   "execution_count": 5,
   "metadata": {},
   "outputs": [
    {
     "data": {
      "text/plain": [
       "<matplotlib.image.AxesImage at 0x7f7c2f7eef90>"
      ]
     },
     "execution_count": 5,
     "metadata": {},
     "output_type": "execute_result"
    },
    {
     "data": {
      "image/png": "[encoded data removed]",
      "text/plain": [
       "<Figure size 432x288 with 1 Axes>"
      ]
     },
     "metadata": {
      "needs_background": "light"
     },
     "output_type": "display_data"
    }
   ],
   "source": [
    "from matplotlib import pyplot as plt\n",
    "plt.imshow(obs)"
   ]
  },
  {
   "cell_type": "code",
   "execution_count": 6,
   "metadata": {},
   "outputs": [],
   "source": [
    "#assert mode in ['human', 'state_pixels', 'rgb_array']\n",
    "obsh=env.render(mode='human')"
   ]
  },
  {
   "cell_type": "raw",
   "metadata": {},
   "source": [
    "#plt.imshow(obsh)\n",
    "env.step(None)"
   ]
  },
  {
   "cell_type": "code",
   "execution_count": 7,
   "metadata": {},
   "outputs": [],
   "source": [
    "#assert mode in ['human', 'state_pixels', 'rgb_array']\n",
    "obs2=env.render(mode='state_pixels')"
   ]
  },
  {
   "cell_type": "code",
   "execution_count": 8,
   "metadata": {},
   "outputs": [
    {
     "data": {
      "text/plain": [
       "<matplotlib.image.AxesImage at 0x7f7c2f718410>"
      ]
     },
     "execution_count": 8,
     "metadata": {},
     "output_type": "execute_result"
    },
    {
     "data": {
      "image/png": "[encoded data removed]",
      "text/plain": [
       "<Figure size 432x288 with 1 Axes>"
      ]
     },
     "metadata": {
      "needs_background": "light"
     },
     "output_type": "display_data"
    }
   ],
   "source": [
    "plt.imshow(obs2)"
   ]
  },
  {
   "cell_type": "code",
   "execution_count": 9,
   "metadata": {},
   "outputs": [],
   "source": [
    "#assert mode in ['human', 'state_pixels', 'rgb_array']\n",
    "obs3=env.render(mode='rgb_array')"
   ]
  },
  {
   "cell_type": "code",
   "execution_count": 10,
   "metadata": {},
   "outputs": [
    {
     "data": {
      "text/plain": [
       "(400, 600, 3)"
      ]
     },
     "execution_count": 10,
     "metadata": {},
     "output_type": "execute_result"
    }
   ],
   "source": [
    "obs3.shape"
   ]
  },
  {
   "cell_type": "code",
   "execution_count": 11,
   "metadata": {},
   "outputs": [
    {
     "data": {
      "text/plain": [
       "<matplotlib.image.AxesImage at 0x7f7c2f6f8cd0>"
      ]
     },
     "execution_count": 11,
     "metadata": {},
     "output_type": "execute_result"
    },
    {
     "data": {
      "image/png": "[encoded data removed]",
      "text/plain": [
       "<Figure size 432x288 with 1 Axes>"
      ]
     },
     "metadata": {
      "needs_background": "light"
     },
     "output_type": "display_data"
    }
   ],
   "source": [
    "plt.imshow(obs3)"
   ]
  },
  {
   "cell_type": "code",
   "execution_count": 12,
   "metadata": {},
   "outputs": [],
   "source": [
    "env.close()"
   ]
  },
  {
   "cell_type": "code",
   "execution_count": null,
   "metadata": {},
   "outputs": [],
   "source": []
  },
  {
   "cell_type": "code",
   "execution_count": 13,
   "metadata": {},
   "outputs": [
    {
     "name": "stderr",
     "output_type": "stream",
     "text": [
      "/home/pablo/anaconda3/envs/rl/lib/python3.7/site-packages/gym/logger.py:30: UserWarning: \u001b[33mWARN: Box bound precision lowered by casting to float32\u001b[0m\n",
      "  warnings.warn(colorize('%s: %s'%('WARN', msg % args), 'yellow'))\n"
     ]
    },
    {
     "name": "stdout",
     "output_type": "stream",
     "text": [
      "Track generation: 1209..1521 -> 312-tiles track\n"
     ]
    }
   ],
   "source": [
    "import gym\n",
    "\n",
    "env2 = gym.make('CarRacing-v0')\n",
    "observation = env2.reset()"
   ]
  },
  {
   "cell_type": "code",
   "execution_count": 14,
   "metadata": {
    "scrolled": true
   },
   "outputs": [
    {
     "name": "stdout",
     "output_type": "stream",
     "text": [
      "[0.07654986 0.36470464 0.03507687] 999\n",
      "[-0.93131894  0.849551    0.19366345] 6.330868167202572\n",
      "[0.19910523 0.4924726  0.59570575] -0.09999999999999964\n",
      "[-0.32479706  0.7476624   0.30905572] -0.09999999999999964\n",
      "[-0.4990038   0.0593216   0.50513107] -0.09999999999999964\n",
      "[0.28873628 0.9175553  0.07679316] -0.09999999999999964\n",
      "[0.827045   0.17916669 0.86746806] -0.09999999999999964\n",
      "[0.8003502  0.49472734 0.899885  ] -0.09999999999999964\n",
      "[-0.5865997   0.445723    0.11825614] -0.09999999999999964\n",
      "[0.19325465 0.90882677 0.09989577] -0.09999999999999964\n",
      "[-0.04726347  0.27910626  0.6897364 ] -0.09999999999999964\n",
      "[0.3306496  0.18506677 0.9194057 ] -0.09999999999999964\n",
      "[-0.9360423   0.96758384  0.8864208 ] -0.09999999999999964\n",
      "[0.6399575  0.688091   0.14163321] -0.09999999999999964\n",
      "[0.38369396 0.6414678  0.00959764] -0.09999999999999964\n",
      "[-0.1486196   0.1923065   0.04499746] -0.09999999999999964\n",
      "[-0.41944313  0.46917874  0.01014464] -0.09999999999999964\n",
      "[0.22929664 0.11794356 0.42401177] -0.09999999999999964\n",
      "[-0.38718507  0.19389129  0.82780886] -0.09999999999999964\n",
      "[-0.5757191   0.36344498  0.563062  ] -0.09999999999999964\n",
      "[0.33148238 0.47564462 0.6198219 ] -0.09999999999999964\n",
      "[0.05697659 0.8262515  0.7445823 ] 3.1154340836012864\n",
      "[0.4433129  0.7524461  0.40398198] -0.09999999999999964\n",
      "[0.6875602  0.88290536 0.8318378 ] -0.09999999999999964\n",
      "[-0.6186887   0.5311858   0.08996991] -0.09999999999999964\n",
      "[-0.6675943   0.51175857  0.77856463] -0.09999999999999964\n",
      "[0.2575996 0.7579378 0.8068759] -0.09999999999999964\n",
      "[-0.61778337  0.5234233   0.14373356] -0.09999999999999964\n",
      "[-0.10241028  0.04325595  0.48528105] -0.09999999999999964\n",
      "[0.8963784  0.3484013  0.71014404] -0.09999999999999964\n",
      "[0.75929046 0.36293527 0.68045086] -0.09999999999999964\n",
      "[-0.03453953  0.5915713   0.24429931] -0.09999999999999964\n",
      "[-0.58650357  0.4319636   0.9632724 ] -0.09999999999999964\n",
      "[-0.66318333  0.87685055  0.19524719] -0.09999999999999964\n",
      "[-0.3197022   0.01142447  0.1801843 ] -0.09999999999999964\n",
      "[-0.86680883  0.44560486  0.04460412] -0.09999999999999964\n",
      "[0.01901544 0.10992689 0.5414    ] -0.09999999999999964\n",
      "[-0.14189327  0.72880864  0.4688055 ] -0.09999999999999964\n",
      "[0.07826617 0.33087    0.93136203] -0.09999999999999964\n",
      "[0.10158663 0.62503797 0.89763695] -0.09999999999999964\n",
      "[0.9098312  0.01118293 0.7486197 ] -0.09999999999999964\n",
      "[0.92493343 0.79681635 0.48239893] -0.09999999999999964\n",
      "[0.9902966  0.30967173 0.22007301] -0.09999999999999964\n",
      "[-0.92127717  0.47693485  0.85172915] -0.09999999999999964\n",
      "[0.49444243 0.9802999  0.27391514] -0.09999999999999964\n",
      "[0.03556744 0.6813872  0.64836556] -0.09999999999999964\n",
      "[0.90644276 0.08689179 0.752222  ] -0.09999999999999964\n",
      "[-0.42353663  0.7875709   0.10758912] -0.09999999999999964\n",
      "[-0.68930185  0.41867703  0.22799008] -0.09999999999999964\n",
      "[0.09858445 0.7058261  0.8067077 ] -0.09999999999999964\n",
      "[0.50782853 0.5947783  0.7220639 ] -0.09999999999999964\n",
      "[-0.80890965  0.8683159   0.6453553 ] -0.09999999999999964\n",
      "[0.39679912 0.12856683 0.7606593 ] -0.09999999999999964\n",
      "[-0.91815704  0.28056657  0.46824718] -0.09999999999999964\n",
      "[0.39792988 0.68706024 0.928478  ] -0.09999999999999964\n",
      "[-0.23744397  0.5600127   0.5010869 ] -0.09999999999999964\n",
      "[0.47276083 0.66625506 0.12785535] -0.09999999999999964\n",
      "[-0.54473764  0.10388993  0.25839207] -0.10000000000000009\n",
      "[0.23693545 0.31397837 0.9902047 ] -0.10000000000000009\n",
      "[0.84658575 0.7711682  0.50298667] -0.10000000000000009\n",
      "[-0.64841294  0.7435061   0.9930177 ] -0.10000000000000009\n",
      "[0.67778283 0.8760638  0.58704334] -0.10000000000000009\n",
      "[0.397082   0.3763417  0.46383396] -0.10000000000000009\n",
      "[-0.8249803  0.7269574  0.5001094] -0.10000000000000009\n",
      "[-0.5873445   0.0968181   0.72103524] -0.10000000000000009\n",
      "[0.04618185 0.188736   0.91105187] -0.10000000000000009\n",
      "[-0.46446034  0.14514455  0.9838033 ] -0.10000000000000009\n",
      "[-0.8810991   0.07311711  0.6695726 ] -0.10000000000000009\n",
      "[-0.46730918  0.02149565  0.65227777] -0.10000000000000009\n",
      "[-0.91729736  0.4751847   0.23356777] -0.10000000000000009\n",
      "[-0.67628     0.25790963  0.16219783] -0.10000000000000009\n",
      "[-0.5515433   0.81759983  0.5109257 ] -0.10000000000000009\n",
      "[0.13275026 0.17215571 0.74785376] -0.10000000000000009\n",
      "[0.5671734 0.5300342 0.5742074] -0.10000000000000009\n",
      "[-0.4711808   0.31976593  0.1980334 ] -0.10000000000000009\n",
      "[-0.9719238   0.15627508  0.67803025] -0.10000000000000009\n",
      "[0.4313631  0.13886696 0.6181074 ] -0.10000000000000009\n",
      "[0.8214082  0.70101506 0.8949566 ] -0.10000000000000009\n",
      "[-0.06952744  0.26154172  0.7517312 ] -0.10000000000000009\n",
      "[0.70425135 0.85253155 0.3711234 ] -0.10000000000000009\n",
      "[-0.13911085  0.74886906  0.09135456] -0.10000000000000009\n",
      "[0.9135815  0.26992276 0.12903528] -0.10000000000000009\n",
      "[0.11501635 0.5747584  0.16755308] -0.10000000000000009\n",
      "[-0.6045428   0.9283858   0.25881946] 3.1154340836012864\n",
      "[0.45725244 0.23806077 0.94759107] -0.09999999999999964\n",
      "[-0.07709431  0.93689597  0.12136373] -0.09999999999999964\n",
      "[0.8080378  0.29924694 0.47057274] -0.09999999999999964\n",
      "[-0.12718633  0.6647132   0.7934851 ] -0.09999999999999964\n",
      "[0.57034796 0.3137152  0.45721996] -0.09999999999999964\n",
      "[-0.354495    0.49428084  0.79664344] -0.10000000000000009\n",
      "[-0.5618024  0.6539575  0.3771966] -0.10000000000000009\n",
      "[0.51075584 0.93894935 0.265918  ] -0.10000000000000009\n",
      "[0.17004323 0.39778265 0.18242523] -0.10000000000000009\n",
      "[-0.1328885   0.9840039   0.45852503] -0.10000000000000009\n",
      "[0.6938093 0.9929288 0.7679614] -0.10000000000000009\n",
      "[0.31431392 0.63578945 0.56578577] -0.10000000000000009\n",
      "[0.42369828 0.01792931 0.10559616] -0.10000000000000009\n",
      "[-0.8803707   0.38376594  0.380474  ] -0.10000000000000009\n",
      "[0.8654541  0.30310234 0.434079  ] -0.10000000000000009\n",
      "[0.488511   0.26581565 0.37623057] -0.10000000000000009\n"
     ]
    }
   ],
   "source": [
    "reward=999\n",
    "for t in range(100):\n",
    "        env2.render()\n",
    "        action = env2.action_space.sample()\n",
    "        #print(observation, action, reward)        \n",
    "        print(action, reward)\n",
    "        observation, reward, done, info = env2.step(action)\n",
    "        if done:\n",
    "            print(\"Episode finished after {} timesteps\".format(t+1))\n",
    "            break\n",
    "    \n"
   ]
  },
  {
   "cell_type": "code",
   "execution_count": 15,
   "metadata": {},
   "outputs": [],
   "source": [
    "env2.close()"
   ]
  },
  {
   "cell_type": "raw",
   "metadata": {},
   "source": []
  },
  {
   "cell_type": "code",
   "execution_count": 1,
   "metadata": {
    "scrolled": true
   },
   "outputs": [
    {
     "name": "stderr",
     "output_type": "stream",
     "text": [
      "/home/pablo/anaconda3/envs/rl/lib/python3.7/site-packages/tensorflow/python/framework/dtypes.py:516: FutureWarning: Passing (type, 1) or '1type' as a synonym of type is deprecated; in a future version of numpy, it will be understood as (type, (1,)) / '(1,)type'.\n",
      "  _np_qint8 = np.dtype([(\"qint8\", np.int8, 1)])\n",
      "/home/pablo/anaconda3/envs/rl/lib/python3.7/site-packages/tensorflow/python/framework/dtypes.py:517: FutureWarning: Passing (type, 1) or '1type' as a synonym of type is deprecated; in a future version of numpy, it will be understood as (type, (1,)) / '(1,)type'.\n",
      "  _np_quint8 = np.dtype([(\"quint8\", np.uint8, 1)])\n",
      "/home/pablo/anaconda3/envs/rl/lib/python3.7/site-packages/tensorflow/python/framework/dtypes.py:518: FutureWarning: Passing (type, 1) or '1type' as a synonym of type is deprecated; in a future version of numpy, it will be understood as (type, (1,)) / '(1,)type'.\n",
      "  _np_qint16 = np.dtype([(\"qint16\", np.int16, 1)])\n",
      "/home/pablo/anaconda3/envs/rl/lib/python3.7/site-packages/tensorflow/python/framework/dtypes.py:519: FutureWarning: Passing (type, 1) or '1type' as a synonym of type is deprecated; in a future version of numpy, it will be understood as (type, (1,)) / '(1,)type'.\n",
      "  _np_quint16 = np.dtype([(\"quint16\", np.uint16, 1)])\n",
      "/home/pablo/anaconda3/envs/rl/lib/python3.7/site-packages/tensorflow/python/framework/dtypes.py:520: FutureWarning: Passing (type, 1) or '1type' as a synonym of type is deprecated; in a future version of numpy, it will be understood as (type, (1,)) / '(1,)type'.\n",
      "  _np_qint32 = np.dtype([(\"qint32\", np.int32, 1)])\n",
      "/home/pablo/anaconda3/envs/rl/lib/python3.7/site-packages/tensorflow/python/framework/dtypes.py:525: FutureWarning: Passing (type, 1) or '1type' as a synonym of type is deprecated; in a future version of numpy, it will be understood as (type, (1,)) / '(1,)type'.\n",
      "  np_resource = np.dtype([(\"resource\", np.ubyte, 1)])\n",
      "/home/pablo/anaconda3/envs/rl/lib/python3.7/site-packages/tensorboard/compat/tensorflow_stub/dtypes.py:541: FutureWarning: Passing (type, 1) or '1type' as a synonym of type is deprecated; in a future version of numpy, it will be understood as (type, (1,)) / '(1,)type'.\n",
      "  _np_qint8 = np.dtype([(\"qint8\", np.int8, 1)])\n",
      "/home/pablo/anaconda3/envs/rl/lib/python3.7/site-packages/tensorboard/compat/tensorflow_stub/dtypes.py:542: FutureWarning: Passing (type, 1) or '1type' as a synonym of type is deprecated; in a future version of numpy, it will be understood as (type, (1,)) / '(1,)type'.\n",
      "  _np_quint8 = np.dtype([(\"quint8\", np.uint8, 1)])\n",
      "/home/pablo/anaconda3/envs/rl/lib/python3.7/site-packages/tensorboard/compat/tensorflow_stub/dtypes.py:543: FutureWarning: Passing (type, 1) or '1type' as a synonym of type is deprecated; in a future version of numpy, it will be understood as (type, (1,)) / '(1,)type'.\n",
      "  _np_qint16 = np.dtype([(\"qint16\", np.int16, 1)])\n",
      "/home/pablo/anaconda3/envs/rl/lib/python3.7/site-packages/tensorboard/compat/tensorflow_stub/dtypes.py:544: FutureWarning: Passing (type, 1) or '1type' as a synonym of type is deprecated; in a future version of numpy, it will be understood as (type, (1,)) / '(1,)type'.\n",
      "  _np_quint16 = np.dtype([(\"quint16\", np.uint16, 1)])\n",
      "/home/pablo/anaconda3/envs/rl/lib/python3.7/site-packages/tensorboard/compat/tensorflow_stub/dtypes.py:545: FutureWarning: Passing (type, 1) or '1type' as a synonym of type is deprecated; in a future version of numpy, it will be understood as (type, (1,)) / '(1,)type'.\n",
      "  _np_qint32 = np.dtype([(\"qint32\", np.int32, 1)])\n",
      "/home/pablo/anaconda3/envs/rl/lib/python3.7/site-packages/tensorboard/compat/tensorflow_stub/dtypes.py:550: FutureWarning: Passing (type, 1) or '1type' as a synonym of type is deprecated; in a future version of numpy, it will be understood as (type, (1,)) / '(1,)type'.\n",
      "  np_resource = np.dtype([(\"resource\", np.ubyte, 1)])\n"
     ]
    }
   ],
   "source": [
    "import gym\n",
    "\n",
    "#from stable_baselines.common.policies import MlpPolicy, CnnPolicy\n",
    "#from stable_baselines.common import make_vec_env\n",
    "from stable_baselines import PPO2\n"
   ]
  },
  {
   "cell_type": "code",
   "execution_count": 2,
   "metadata": {},
   "outputs": [
    {
     "name": "stderr",
     "output_type": "stream",
     "text": [
      "/home/pablo/anaconda3/envs/rl/lib/python3.7/site-packages/gym/logger.py:30: UserWarning: \u001b[33mWARN: Box bound precision lowered by casting to float32\u001b[0m\n",
      "  warnings.warn(colorize('%s: %s'%('WARN', msg % args), 'yellow'))\n"
     ]
    },
    {
     "name": "stdout",
     "output_type": "stream",
     "text": [
      "Track generation: 1248..1565 -> 317-tiles track\n"
     ]
    }
   ],
   "source": [
    "env3 = gym.make('CarRacing-v0')\n",
    "obs = env3.reset()"
   ]
  },
  {
   "cell_type": "code",
   "execution_count": 4,
   "metadata": {},
   "outputs": [
    {
     "data": {
      "text/plain": [
       "True"
      ]
     },
     "execution_count": 4,
     "metadata": {},
     "output_type": "execute_result"
    }
   ],
   "source": [
    "for i in range(50):\n",
    "    obs, rewards, dones, info = env3.step([0,  0,  0])\n",
    "\n",
    "env3.render()"
   ]
  },
  {
   "cell_type": "code",
   "execution_count": 5,
   "metadata": {},
   "outputs": [
    {
     "name": "stdout",
     "output_type": "stream",
     "text": [
      "WARNING:tensorflow:From /home/pablo/anaconda3/envs/rl/lib/python3.7/site-packages/stable_baselines/common/tf_util.py:191: The name tf.ConfigProto is deprecated. Please use tf.compat.v1.ConfigProto instead.\n",
      "\n",
      "WARNING:tensorflow:From /home/pablo/anaconda3/envs/rl/lib/python3.7/site-packages/stable_baselines/common/tf_util.py:200: The name tf.Session is deprecated. Please use tf.compat.v1.Session instead.\n",
      "\n",
      "WARNING:tensorflow:From /home/pablo/anaconda3/envs/rl/lib/python3.7/site-packages/stable_baselines/common/policies.py:116: The name tf.variable_scope is deprecated. Please use tf.compat.v1.variable_scope instead.\n",
      "\n",
      "WARNING:tensorflow:From /home/pablo/anaconda3/envs/rl/lib/python3.7/site-packages/stable_baselines/common/input.py:25: The name tf.placeholder is deprecated. Please use tf.compat.v1.placeholder instead.\n",
      "\n",
      "WARNING:tensorflow:From /home/pablo/anaconda3/envs/rl/lib/python3.7/site-packages/stable_baselines/common/tf_layers.py:103: The name tf.get_variable is deprecated. Please use tf.compat.v1.get_variable instead.\n",
      "\n",
      "WARNING:tensorflow:From /home/pablo/anaconda3/envs/rl/lib/python3.7/site-packages/stable_baselines/ppo2/ppo2.py:190: The name tf.summary.scalar is deprecated. Please use tf.compat.v1.summary.scalar instead.\n",
      "\n",
      "WARNING:tensorflow:From /home/pablo/anaconda3/envs/rl/lib/python3.7/site-packages/tensorflow/python/ops/math_grad.py:1250: add_dispatch_support.<locals>.wrapper (from tensorflow.python.ops.array_ops) is deprecated and will be removed in a future version.\n",
      "Instructions for updating:\n",
      "Use tf.where in 2.0, which has the same broadcast rule as np.where\n",
      "WARNING:tensorflow:From /home/pablo/anaconda3/envs/rl/lib/python3.7/site-packages/stable_baselines/ppo2/ppo2.py:206: The name tf.train.AdamOptimizer is deprecated. Please use tf.compat.v1.train.AdamOptimizer instead.\n",
      "\n",
      "WARNING:tensorflow:From /home/pablo/anaconda3/envs/rl/lib/python3.7/site-packages/stable_baselines/ppo2/ppo2.py:242: The name tf.summary.merge_all is deprecated. Please use tf.compat.v1.summary.merge_all instead.\n",
      "\n"
     ]
    }
   ],
   "source": [
    "model3 = PPO2.load('gym-master/car_racing_weights.pkl')\n"
   ]
  },
  {
   "cell_type": "code",
   "execution_count": 6,
   "metadata": {},
   "outputs": [
    {
     "ename": "ValueError",
     "evalue": "Error: Unexpected observation shape (96, 96, 3) for Box environment, please use (96, 96, 4) or (n_env, 96, 96, 4) for the observation shape.",
     "output_type": "error",
     "traceback": [
      "\u001b[0;31m---------------------------------------------------------------------------\u001b[0m",
      "\u001b[0;31mValueError\u001b[0m                                Traceback (most recent call last)",
      "\u001b[0;32m<ipython-input-6-0cc1ed4b8154>\u001b[0m in \u001b[0;36m<module>\u001b[0;34m\u001b[0m\n\u001b[1;32m      1\u001b[0m \u001b[0;31m# Enjoy trained agent\u001b[0m\u001b[0;34m\u001b[0m\u001b[0;34m\u001b[0m\u001b[0;34m\u001b[0m\u001b[0m\n\u001b[1;32m      2\u001b[0m \u001b[0;32mwhile\u001b[0m \u001b[0;32mTrue\u001b[0m\u001b[0;34m:\u001b[0m\u001b[0;34m\u001b[0m\u001b[0;34m\u001b[0m\u001b[0m\n\u001b[0;32m----> 3\u001b[0;31m     \u001b[0maction\u001b[0m\u001b[0;34m,\u001b[0m \u001b[0m_states\u001b[0m \u001b[0;34m=\u001b[0m \u001b[0mmodel3\u001b[0m\u001b[0;34m.\u001b[0m\u001b[0mpredict\u001b[0m\u001b[0;34m(\u001b[0m\u001b[0mobs\u001b[0m\u001b[0;34m)\u001b[0m\u001b[0;34m\u001b[0m\u001b[0;34m\u001b[0m\u001b[0m\n\u001b[0m\u001b[1;32m      4\u001b[0m     \u001b[0mobs\u001b[0m\u001b[0;34m,\u001b[0m \u001b[0mrewards\u001b[0m\u001b[0;34m,\u001b[0m \u001b[0mdones\u001b[0m\u001b[0;34m,\u001b[0m \u001b[0minfo\u001b[0m \u001b[0;34m=\u001b[0m \u001b[0menv3\u001b[0m\u001b[0;34m.\u001b[0m\u001b[0mstep\u001b[0m\u001b[0;34m(\u001b[0m\u001b[0maction\u001b[0m\u001b[0;34m)\u001b[0m\u001b[0;34m\u001b[0m\u001b[0;34m\u001b[0m\u001b[0m\n\u001b[1;32m      5\u001b[0m     \u001b[0menv\u001b[0m\u001b[0;34m.\u001b[0m\u001b[0mrender\u001b[0m\u001b[0;34m(\u001b[0m\u001b[0;34m)\u001b[0m\u001b[0;34m\u001b[0m\u001b[0;34m\u001b[0m\u001b[0m\n",
      "\u001b[0;32m~/anaconda3/envs/rl/lib/python3.7/site-packages/stable_baselines/common/base_class.py\u001b[0m in \u001b[0;36mpredict\u001b[0;34m(self, observation, state, mask, deterministic)\u001b[0m\n\u001b[1;32m    814\u001b[0m             \u001b[0mmask\u001b[0m \u001b[0;34m=\u001b[0m \u001b[0;34m[\u001b[0m\u001b[0;32mFalse\u001b[0m \u001b[0;32mfor\u001b[0m \u001b[0m_\u001b[0m \u001b[0;32min\u001b[0m \u001b[0mrange\u001b[0m\u001b[0;34m(\u001b[0m\u001b[0mself\u001b[0m\u001b[0;34m.\u001b[0m\u001b[0mn_envs\u001b[0m\u001b[0;34m)\u001b[0m\u001b[0;34m]\u001b[0m\u001b[0;34m\u001b[0m\u001b[0;34m\u001b[0m\u001b[0m\n\u001b[1;32m    815\u001b[0m         \u001b[0mobservation\u001b[0m \u001b[0;34m=\u001b[0m \u001b[0mnp\u001b[0m\u001b[0;34m.\u001b[0m\u001b[0marray\u001b[0m\u001b[0;34m(\u001b[0m\u001b[0mobservation\u001b[0m\u001b[0;34m)\u001b[0m\u001b[0;34m\u001b[0m\u001b[0;34m\u001b[0m\u001b[0m\n\u001b[0;32m--> 816\u001b[0;31m         \u001b[0mvectorized_env\u001b[0m \u001b[0;34m=\u001b[0m \u001b[0mself\u001b[0m\u001b[0;34m.\u001b[0m\u001b[0m_is_vectorized_observation\u001b[0m\u001b[0;34m(\u001b[0m\u001b[0mobservation\u001b[0m\u001b[0;34m,\u001b[0m \u001b[0mself\u001b[0m\u001b[0;34m.\u001b[0m\u001b[0mobservation_space\u001b[0m\u001b[0;34m)\u001b[0m\u001b[0;34m\u001b[0m\u001b[0;34m\u001b[0m\u001b[0m\n\u001b[0m\u001b[1;32m    817\u001b[0m \u001b[0;34m\u001b[0m\u001b[0m\n\u001b[1;32m    818\u001b[0m         \u001b[0mobservation\u001b[0m \u001b[0;34m=\u001b[0m \u001b[0mobservation\u001b[0m\u001b[0;34m.\u001b[0m\u001b[0mreshape\u001b[0m\u001b[0;34m(\u001b[0m\u001b[0;34m(\u001b[0m\u001b[0;34m-\u001b[0m\u001b[0;36m1\u001b[0m\u001b[0;34m,\u001b[0m\u001b[0;34m)\u001b[0m \u001b[0;34m+\u001b[0m \u001b[0mself\u001b[0m\u001b[0;34m.\u001b[0m\u001b[0mobservation_space\u001b[0m\u001b[0;34m.\u001b[0m\u001b[0mshape\u001b[0m\u001b[0;34m)\u001b[0m\u001b[0;34m\u001b[0m\u001b[0;34m\u001b[0m\u001b[0m\n",
      "\u001b[0;32m~/anaconda3/envs/rl/lib/python3.7/site-packages/stable_baselines/common/base_class.py\u001b[0m in \u001b[0;36m_is_vectorized_observation\u001b[0;34m(observation, observation_space)\u001b[0m\n\u001b[1;32m    719\u001b[0m                                  \u001b[0;34m\"Box environment, please use {} \"\u001b[0m\u001b[0;34m.\u001b[0m\u001b[0mformat\u001b[0m\u001b[0;34m(\u001b[0m\u001b[0mobservation_space\u001b[0m\u001b[0;34m.\u001b[0m\u001b[0mshape\u001b[0m\u001b[0;34m)\u001b[0m \u001b[0;34m+\u001b[0m\u001b[0;34m\u001b[0m\u001b[0;34m\u001b[0m\u001b[0m\n\u001b[1;32m    720\u001b[0m                                  \u001b[0;34m\"or (n_env, {}) for the observation shape.\"\u001b[0m\u001b[0;34m\u001b[0m\u001b[0;34m\u001b[0m\u001b[0m\n\u001b[0;32m--> 721\u001b[0;31m                                  .format(\", \".join(map(str, observation_space.shape))))\n\u001b[0m\u001b[1;32m    722\u001b[0m         \u001b[0;32melif\u001b[0m \u001b[0misinstance\u001b[0m\u001b[0;34m(\u001b[0m\u001b[0mobservation_space\u001b[0m\u001b[0;34m,\u001b[0m \u001b[0mgym\u001b[0m\u001b[0;34m.\u001b[0m\u001b[0mspaces\u001b[0m\u001b[0;34m.\u001b[0m\u001b[0mDiscrete\u001b[0m\u001b[0;34m)\u001b[0m\u001b[0;34m:\u001b[0m\u001b[0;34m\u001b[0m\u001b[0;34m\u001b[0m\u001b[0m\n\u001b[1;32m    723\u001b[0m             \u001b[0;32mif\u001b[0m \u001b[0mobservation\u001b[0m\u001b[0;34m.\u001b[0m\u001b[0mshape\u001b[0m \u001b[0;34m==\u001b[0m \u001b[0;34m(\u001b[0m\u001b[0;34m)\u001b[0m\u001b[0;34m:\u001b[0m  \u001b[0;31m# A numpy array of a number, has shape empty tuple '()'\u001b[0m\u001b[0;34m\u001b[0m\u001b[0;34m\u001b[0m\u001b[0m\n",
      "\u001b[0;31mValueError\u001b[0m: Error: Unexpected observation shape (96, 96, 3) for Box environment, please use (96, 96, 4) or (n_env, 96, 96, 4) for the observation shape."
     ]
    }
   ],
   "source": [
    "# Enjoy trained agent\n",
    "while True:\n",
    "    action, _states = model3.predict(obs)\n",
    "    obs, rewards, dones, info = env3.step(action)\n",
    "    env3.render()"
   ]
  },
  {
   "cell_type": "code",
   "execution_count": 7,
   "metadata": {},
   "outputs": [],
   "source": [
    "env3.close()"
   ]
  },
  {
   "cell_type": "code",
   "execution_count": null,
   "metadata": {},
   "outputs": [],
   "source": []
  }
 ],
 "metadata": {
  "kernelspec": {
   "display_name": "Python [conda env:rl]",
   "language": "python",
   "name": "conda-env-rl-py"
  },
  "language_info": {
   "codemirror_mode": {
    "name": "ipython",
    "version": 3
   },
   "file_extension": ".py",
   "mimetype": "text/x-python",
   "name": "python",
   "nbconvert_exporter": "python",
   "pygments_lexer": "ipython3",
   "version": "3.7.7"
  }
 },
 "nbformat": 4,
 "nbformat_minor": 4
}
