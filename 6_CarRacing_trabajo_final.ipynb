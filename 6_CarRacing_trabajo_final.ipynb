{
 "cells": [
  {
   "cell_type": "code",
   "execution_count": 1,
   "metadata": {},
   "outputs": [],
   "source": [
    "import gym\n",
    "#import moviepy.editor as mpy\n",
    "import os\n",
    "from pyvirtualdisplay import Display"
   ]
  },
  {
   "cell_type": "code",
   "execution_count": 2,
   "metadata": {},
   "outputs": [],
   "source": [
    "# Filter tensorflow version warnings\n",
    "import os\n",
    "# https://stackoverflow.com/questions/40426502/is-there-a-way-to-suppress-the-messages-tensorflow-prints/40426709\n",
    "os.environ['TF_CPP_MIN_LOG_LEVEL'] = '3'  # or any {'0', '1', '2'}\n",
    "import warnings\n",
    "# https://stackoverflow.com/questions/15777951/how-to-suppress-pandas-future-warning\n",
    "warnings.simplefilter(action='ignore', category=FutureWarning)\n",
    "warnings.simplefilter(action='ignore', category=Warning)\n",
    "import tensorflow as tf\n",
    "tf.get_logger().setLevel('INFO')\n",
    "tf.autograph.set_verbosity(0)\n",
    "import logging\n",
    "tf.get_logger().setLevel(logging.ERROR)"
   ]
  },
  {
   "cell_type": "code",
   "execution_count": 3,
   "metadata": {},
   "outputs": [],
   "source": [
    "from matplotlib import pyplot as plt\n",
    "from IPython.display import clear_output\n",
    "import numpy as np\n",
    "\n",
    "from stable_baselines import PPO2"
   ]
  },
  {
   "cell_type": "code",
   "execution_count": 4,
   "metadata": {},
   "outputs": [],
   "source": [
    "#cargo el env original de OpenAI\n",
    "env = gym.make('CarRacing-v0')"
   ]
  },
  {
   "cell_type": "code",
   "execution_count": 5,
   "metadata": {},
   "outputs": [
    {
     "data": {
      "text/plain": [
       "Box(3,)"
      ]
     },
     "execution_count": 5,
     "metadata": {},
     "output_type": "execute_result"
    }
   ],
   "source": [
    "env.action_space"
   ]
  },
  {
   "cell_type": "code",
   "execution_count": 6,
   "metadata": {},
   "outputs": [
    {
     "data": {
      "text/plain": [
       "(array([1., 1., 1.], dtype=float32), array([-1.,  0.,  0.], dtype=float32))"
      ]
     },
     "execution_count": 6,
     "metadata": {},
     "output_type": "execute_result"
    }
   ],
   "source": [
    "env.action_space.high, env.action_space.low"
   ]
  },
  {
   "cell_type": "code",
   "execution_count": 7,
   "metadata": {},
   "outputs": [
    {
     "data": {
      "text/plain": [
       "Box(96, 96, 3)"
      ]
     },
     "execution_count": 7,
     "metadata": {},
     "output_type": "execute_result"
    }
   ],
   "source": [
    "env.observation_space"
   ]
  },
  {
   "cell_type": "raw",
   "metadata": {},
   "source": [
    "## +++modelos propios single frame en rgb, no andan demasiado bien... +++\n",
    "\n",
    "#param comunes de imagenes usados en train\n",
    "C=3   #frames consecutivos x canales de rgb\n",
    "G=0   #rgb o grayscale o red\n",
    "\n",
    "#trained models segun el env de openAI, sacar el discretizador\n",
    "discre=False\n",
    "\n",
    "#model = PPO2.load('ppo2_cnn_agent.pkl')\n",
    "#model = PPO2.load('ppo2_cnn_agentII.pkl')\n",
    "#model = PPO2.load('ppo2_cnn_agent_short')\n",
    "#model = PPO2.load('ppo2_cnn_gymv0_bs256.pkl')\n",
    "#model = PPO2.load('ppo2_cnn_gymv0_bs256II.pkl')\n",
    "#model = PPO2.load('ppo2_cnn_gymv0_bs256III.pkl')\n",
    "    \n",
    "\n",
    "#trained models segun env() de Mike: _v0 es como el de openAI, pero discretizado\n",
    "discre=True\n",
    "\n",
    "#model = PPO2.load('gym-master/ppo2_v0_mike_cnn')\n",
    "#model = PPO2.load('gym-master/ppo2_v0_mike_cnn_bs256.pkl')\n",
    "#model = PPO2.load('gym-master/ppo2_v0_mike_cnn_bs256II.pkl')\n",
    "#model = PPO2.load('gym-master/ppo2_v0_mike_cnn_clipvf.pkl')     #no aprendio nada\n",
    "#model = PPO2.load('gym-master/ppo2_v0_mike_cnn_clipvfII.pkl')   #no aprendio nada\n",
    "\n",
    "\n",
    "#trained models segun env() de Mike: _v1 es el avanzado\n",
    "discre=True\n",
    "\n",
    "#model = PPO2.load('gym-master/ppo2_v1_mike_cnn')\n",
    "#model = PPO2.load('gym-master/ppo2_v1_mike_cnn2')\n",
    "#model = PPO2.load('gym-master/ppo2_v1_mike_cnn_offtrack')       #no aprendio nada\n",
    "#model = PPO2.load('gym-master/ppo2_v1_mike_cnn_tmout+.pkl')\n",
    "#model = PPO2.load('gym-master/ppo2_v1_mike_cnn_tmout-.pkl')\n",
    "#model = PPO2.load('gym-master/ppo2_v1_mike_cnn_tmout-II.pkl')\n",
    "#model = PPO2.load('gym-master/ppo2_v1_mike_cnn_tmout-III.pkl')\n",
    "\n",
    "acc_prev=0\n",
    "if discre:\n",
    "    intro=45\n",
    "else:\n",
    "    intro=0\n"
   ]
  },
  {
   "cell_type": "code",
   "execution_count": 8,
   "metadata": {},
   "outputs": [
    {
     "name": "stdout",
     "output_type": "stream",
     "text": [
      "Loading a model without an environment, this model cannot be trained until it has a valid environment.\n"
     ]
    }
   ],
   "source": [
    "#modelos propios multi-frame, segun el env_v1 de Mike que lo permite\n",
    "\n",
    "#param comunes de imagenes usados en train\n",
    "G=1   #rgb o grayscale o green\n",
    "discre=True\n",
    "intro=45\n",
    "acc_prev=0\n",
    "\n",
    "#model = PPO2.load('gym-master/ppo2_v1_mike_cnn_gray.pkl')       #cuidado 2 frames\n",
    "C=2\n",
    "\n",
    "model = PPO2.load('gym-master/ppo2_v1_mike_cnn_4f_green_bs1600.pkl')\n",
    "C=4\n",
    "G=2"
   ]
  },
  {
   "cell_type": "raw",
   "metadata": {},
   "source": [
    "#modelo publicado de Mike\n",
    "\n",
    "model = PPO2.load('gym-master/car_racing_weights.pkl')\n",
    "C=4     #4 frames sucesivos\n",
    "G=1     #grayscale\n",
    "discre=True\n",
    "intro=45\n",
    "acc_prev=0"
   ]
  },
  {
   "cell_type": "code",
   "execution_count": 9,
   "metadata": {},
   "outputs": [],
   "source": [
    "#mike's training discretization\n",
    "act=[]\n",
    "act.append([0, 0, 0])\n",
    "act.append([-1,0, 0])\n",
    "act.append([1, 0, 0])\n",
    "act.append([0,1,0])\n",
    "act.append([0, 0,0.8])"
   ]
  },
  {
   "cell_type": "code",
   "execution_count": null,
   "metadata": {},
   "outputs": [],
   "source": []
  },
  {
   "cell_type": "code",
   "execution_count": 10,
   "metadata": {},
   "outputs": [
    {
     "name": "stdout",
     "output_type": "stream",
     "text": [
      "Track generation: 1140..1429 -> 289-tiles track\n"
     ]
    }
   ],
   "source": [
    "#setup\n",
    "plot=False   #si plot no render grande\n",
    "\n",
    "if plot:\n",
    "    display = Display(visible=0, size=(1024, 768))\n",
    "    display.start()\n",
    "    os.environ[\"DISPLAY\"] = \":\" + str(display.display) + \".\" + str(display.screen)\n",
    "\n",
    "rgb=env.reset()\n",
    "\n",
    "#salteo la intro si uso 45 frames, lo pongo a acelerar segun env entretanto\n",
    "for i in range(intro):\n",
    "    rgb, reward, done, info = env.step([0, acc_prev, 0])\n",
    "    "
   ]
  },
  {
   "cell_type": "code",
   "execution_count": 11,
   "metadata": {},
   "outputs": [
    {
     "data": {
      "text/plain": [
       "True"
      ]
     },
     "execution_count": 11,
     "metadata": {},
     "output_type": "execute_result"
    }
   ],
   "source": [
    "#armo array de obser inicial \n",
    "#--> hay sendos wrapper para esto, pero no puedo agregarle a TU entorno la\n",
    "# opcion de quedarme solo con el canal green de rgb (G=2)\n",
    "\n",
    "obser=np.zeros((96,96,C))\n",
    "\n",
    "for i in range(C):\n",
    "    if G==1: \n",
    "        obs=np.average(rgb, weights=[0.299, 0.587, 0.114], axis=2)\n",
    "    elif G==2:\n",
    "        obs=rgb[:,:,1]\n",
    "    else:\n",
    "        obs=rgb[:,:,i]\n",
    "    \n",
    "    obser[:,:,i]=obs\n",
    "#    rgb, reward, done, info = env.step([0, acc_prev, 0])  #acelero segun env estos C frames...\n",
    "\n",
    "env.render()"
   ]
  },
  {
   "cell_type": "code",
   "execution_count": 12,
   "metadata": {},
   "outputs": [
    {
     "data": {
      "text/plain": [
       "(96, 96, 4)"
      ]
     },
     "execution_count": 12,
     "metadata": {},
     "output_type": "execute_result"
    }
   ],
   "source": [
    "obser.shape"
   ]
  },
  {
   "cell_type": "code",
   "execution_count": 13,
   "metadata": {},
   "outputs": [
    {
     "name": "stdout",
     "output_type": "stream",
     "text": [
      "-0.10, [0, 1, 0], 869.78, 1000                                                      \n",
      "\n",
      "env() lo dio por finalizado:  True\n",
      "{'TimeLimit.truncated': True}, 869.78, 1000\n"
     ]
    }
   ],
   "source": [
    "#play\n",
    "episode = intro\n",
    "total_reward = 0  \n",
    "rewards = []\n",
    "total_rewards = []\n",
    "done = False\n",
    "np.set_printoptions(precision=4)\n",
    "\n",
    "#si plot no render grande\n",
    "\n",
    "while not done and episode<1003:  #a los mil corta el env() automaticamente\n",
    "    mod_act, _states = model.predict(obser, deterministic=True)\n",
    "    action=act[mod_act] if discre else mod_act\n",
    "    \n",
    "    rgb, reward, done, info = env.step(action)\n",
    "    #obs=np.average(rgb, weights=[0.299, 0.587, 0.114], axis=2) if G else rgb\n",
    "    if G==1: \n",
    "        obs=np.average(rgb, weights=[0.299, 0.587, 0.114], axis=2)\n",
    "    elif G==2:\n",
    "        obs=rgb[:,:,1]\n",
    "    else:\n",
    "        obs=rgb\n",
    "    \n",
    "    if C>1:\n",
    "        obser=np.roll(obser,1,2)\n",
    "        obser[:,:,0]=obs\n",
    "    else:\n",
    "        obser=obs\n",
    "    \n",
    "    total_reward += reward\n",
    "    rewards.append(reward)\n",
    "    total_rewards.append(total_reward)\n",
    "    \n",
    "    if plot:\n",
    "        clear_output(wait=True)\n",
    "        plt.subplots(1,2,figsize=(15,10))\n",
    "        plt.subplot(1,2, 1)\n",
    "        plt.imshow(obs,cmap='gray')   #imagen mas nueva que ve la red para decidir, guarda C anteriores\n",
    "        plt.subplot(1,2,2)\n",
    "        plt.imshow(rgb)               #el juego en estado natural\n",
    "        plt.show()\n",
    "        #print(f'\\r{model.action_probability(obser):.4f}')\n",
    "        print(model.action_probability(obser))\n",
    "    else:\n",
    "        env.render()\n",
    "        \n",
    "    episode+=1\n",
    "    #print(mod_act, act[mod_act])\n",
    "    print(f'\\r{reward:.2f}, {action}, {total_reward:.2f}, {episode}', end='                           ')\n",
    "\n",
    "print('')\n",
    "print('')\n",
    "print('env() lo dio por finalizado: ', done)\n",
    "print(f'\\r{info}, {total_reward:.2f}, {episode}')\n",
    "\n",
    "env.close()"
   ]
  },
  {
   "cell_type": "code",
   "execution_count": 14,
   "metadata": {},
   "outputs": [
    {
     "data": {
      "text/plain": [
       "[<matplotlib.lines.Line2D at 0x7fb5b05fcd10>]"
      ]
     },
     "execution_count": 14,
     "metadata": {},
     "output_type": "execute_result"
    },
    {
     "data": {
      "image/png": "[encoded data removed]",
      "text/plain": [
       "<Figure size 432x288 with 1 Axes>"
      ]
     },
     "metadata": {
      "needs_background": "light"
     },
     "output_type": "display_data"
    }
   ],
   "source": [
    "plt.plot(rewards[:episode-1])\n",
    "plt.plot(total_rewards[:episode])"
   ]
  },
  {
   "cell_type": "code",
   "execution_count": 15,
   "metadata": {},
   "outputs": [
    {
     "data": {
      "text/plain": [
       "[<matplotlib.lines.Line2D at 0x7fb5ad8efc50>]"
      ]
     },
     "execution_count": 15,
     "metadata": {},
     "output_type": "execute_result"
    },
    {
     "data": {
      "image/png": "[encoded data removed]",
      "text/plain": [
       "<Figure size 432x288 with 1 Axes>"
      ]
     },
     "metadata": {
      "needs_background": "light"
     },
     "output_type": "display_data"
    }
   ],
   "source": [
    "plt.plot(rewards, marker='.')"
   ]
  },
  {
   "cell_type": "code",
   "execution_count": 16,
   "metadata": {},
   "outputs": [],
   "source": [
    "env.close()"
   ]
  },
  {
   "cell_type": "code",
   "execution_count": null,
   "metadata": {},
   "outputs": [],
   "source": []
  }
 ],
 "metadata": {
  "kernelspec": {
   "display_name": "Python [conda env:rl]",
   "language": "python",
   "name": "conda-env-rl-py"
  },
  "language_info": {
   "codemirror_mode": {
    "name": "ipython",
    "version": 3
   },
   "file_extension": ".py",
   "mimetype": "text/x-python",
   "name": "python",
   "nbconvert_exporter": "python",
   "pygments_lexer": "ipython3",
   "version": "3.7.7"
  }
 },
 "nbformat": 4,
 "nbformat_minor": 2
}
