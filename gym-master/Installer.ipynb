{
 "cells": [
  {
   "cell_type": "markdown",
   "metadata": {},
   "source": [
    "conda create -n ppo"
   ]
  },
  {
   "cell_type": "markdown",
   "metadata": {},
   "source": [
    "conda activate ppo"
   ]
  },
  {
   "cell_type": "code",
   "execution_count": null,
   "metadata": {},
   "outputs": [],
   "source": [
    "!sudo -A apt-get update"
   ]
  },
  {
   "cell_type": "code",
   "execution_count": 1,
   "metadata": {},
   "outputs": [
    {
     "name": "stdout",
     "output_type": "stream",
     "text": [
      "[sudo] password for pablo: \n"
     ]
    }
   ],
   "source": [
    "!sudo -S apt-get install cmake libopenmpi-dev python3-dev zlib1g-dev"
   ]
  },
  {
   "cell_type": "code",
   "execution_count": 2,
   "metadata": {},
   "outputs": [
    {
     "name": "stdout",
     "output_type": "stream",
     "text": [
      "Collecting stable-baselines\n",
      "  Using cached stable_baselines-2.10.0-py3-none-any.whl (248 kB)\n",
      "Collecting pandas\n",
      "  Downloading pandas-1.0.3-cp37-cp37m-manylinux1_x86_64.whl (10.0 MB)\n",
      "\u001b[K     |████████████████████████████████| 10.0 MB 182 kB/s eta 0:00:01    |████▍                           | 1.4 MB 407 kB/s eta 0:00:22eta 0:00:06\n",
      "\u001b[?25hCollecting numpy\n",
      "  Downloading numpy-1.18.3-cp37-cp37m-manylinux1_x86_64.whl (20.2 MB)\n",
      "\u001b[K     |████████████████████████████████| 20.2 MB 1.9 MB/s eta 0:00:01     |████████████████▊               | 10.5 MB 964 kB/s eta 0:00:10     |███████████████████▉            | 12.5 MB 2.4 MB/s eta 0:00:04\n",
      "\u001b[?25hProcessing /home/pablo/.cache/pip/wheels/12/7a/2a/2e85bca5dd2c3b319675a5db8a48837b7cfe0603240442b771/gym-0.17.1-py3-none-any.whl\n",
      "Collecting matplotlib\n",
      "  Downloading matplotlib-3.2.1-cp37-cp37m-manylinux1_x86_64.whl (12.4 MB)\n",
      "\u001b[K     |████████████████████████████████| 12.4 MB 3.5 MB/s eta 0:00:01                     | 2.1 MB 2.7 MB/s eta 0:00:04     |████████████                    | 4.6 MB 2.7 MB/s eta 0:00:03     |████████████████████████████▎   | 11.0 MB 2.4 MB/s eta 0:00:01\n",
      "\u001b[?25hCollecting cloudpickle>=0.5.5\n",
      "  Using cached cloudpickle-1.3.0-py2.py3-none-any.whl (26 kB)\n",
      "Collecting joblib\n",
      "  Using cached joblib-0.14.1-py2.py3-none-any.whl (294 kB)\n",
      "Collecting opencv-python\n",
      "  Using cached opencv_python-4.2.0.34-cp37-cp37m-manylinux1_x86_64.whl (28.2 MB)\n",
      "Collecting scipy\n",
      "  Downloading scipy-1.4.1-cp37-cp37m-manylinux1_x86_64.whl (26.1 MB)\n",
      "\u001b[K     |████████████████████████████████| 26.1 MB 994 kB/s eta 0:00:01    |██▍                             | 2.0 MB 1.3 MB/s eta 0:00:19     |███████▋                        | 6.2 MB 2.5 MB/s eta 0:00:08     |█████████████████▏              | 14.0 MB 1.9 MB/s eta 0:00:07     |█████████████████▎              | 14.1 MB 1.9 MB/s eta 0:00:07\n",
      "\u001b[?25hCollecting pytz>=2017.2\n",
      "  Using cached pytz-2019.3-py2.py3-none-any.whl (509 kB)\n",
      "Requirement already satisfied: python-dateutil>=2.6.1 in /home/pablo/anaconda3/envs/ppo/lib/python3.7/site-packages (from pandas->stable-baselines) (2.8.1)\n",
      "Requirement already satisfied: six in /home/pablo/anaconda3/envs/ppo/lib/python3.7/site-packages (from gym[atari,classic_control]>=0.11->stable-baselines) (1.14.0)\n",
      "Collecting pyglet<=1.5.0,>=1.4.0\n",
      "  Using cached pyglet-1.5.0-py2.py3-none-any.whl (1.0 MB)\n",
      "Collecting Pillow; extra == \"atari\"\n",
      "  Downloading Pillow-7.1.2-cp37-cp37m-manylinux1_x86_64.whl (2.1 MB)\n",
      "\u001b[K     |████████████████████████████████| 2.1 MB 1.2 MB/s eta 0:00:011\n",
      "\u001b[?25hCollecting atari-py~=0.2.0; extra == \"atari\"\n",
      "  Using cached atari_py-0.2.6-cp37-cp37m-manylinux1_x86_64.whl (2.8 MB)\n",
      "Collecting cycler>=0.10\n",
      "  Using cached cycler-0.10.0-py2.py3-none-any.whl (6.5 kB)\n",
      "Collecting kiwisolver>=1.0.1\n",
      "  Downloading kiwisolver-1.2.0-cp37-cp37m-manylinux1_x86_64.whl (88 kB)\n",
      "\u001b[K     |████████████████████████████████| 88 kB 1.4 MB/s eta 0:00:01\n",
      "\u001b[?25hCollecting pyparsing!=2.0.4,!=2.1.2,!=2.1.6,>=2.0.1\n",
      "  Using cached pyparsing-2.4.7-py2.py3-none-any.whl (67 kB)\n",
      "Processing /home/pablo/.cache/pip/wheels/56/b0/fe/4410d17b32f1f0c3cf54cdfb2bc04d7b4b8f4ae377e2229ba0/future-0.18.2-py3-none-any.whl\n",
      "Installing collected packages: numpy, pytz, pandas, future, pyglet, cloudpickle, scipy, Pillow, atari-py, opencv-python, gym, cycler, kiwisolver, pyparsing, matplotlib, joblib, stable-baselines\n",
      "  Attempting uninstall: gym\n",
      "    Found existing installation: gym 0.10.9\n",
      "    Can't uninstall 'gym'. No files were found to uninstall.\n",
      "Successfully installed Pillow-7.1.2 atari-py-0.2.6 cloudpickle-1.3.0 cycler-0.10.0 future-0.18.2 gym-0.17.1 joblib-0.14.1 kiwisolver-1.2.0 matplotlib-3.2.1 numpy-1.18.3 opencv-python-4.2.0.34 pandas-1.0.3 pyglet-1.5.0 pyparsing-2.4.7 pytz-2019.3 scipy-1.4.1 stable-baselines-2.10.0\n",
      "Note: you may need to restart the kernel to use updated packages.\n"
     ]
    }
   ],
   "source": [
    "pip install stable-baselines"
   ]
  },
  {
   "cell_type": "code",
   "execution_count": 1,
   "metadata": {},
   "outputs": [
    {
     "name": "stdout",
     "output_type": "stream",
     "text": [
      "Collecting tensorflow==1.14.0\n",
      "  Downloading tensorflow-1.14.0-cp37-cp37m-manylinux1_x86_64.whl (109.3 MB)\n",
      "\u001b[K     |████████████████████████████████| 109.3 MB 47 kB/s  eta 0:00:01   |▏                               | 409 kB 347 kB/s eta 0:05:14     |█▏                              | 4.1 MB 477 kB/s eta 0:03:41     |██▉                             | 9.6 MB 10.7 MB/s eta 0:00:10     |█████                           | 17.3 MB 3.4 MB/s eta 0:00:28     |█████▏                          | 17.7 MB 3.4 MB/s eta 0:00:27     |██████▍                         | 21.9 MB 5.4 MB/s eta 0:00:17     |██████▌                         | 22.3 MB 5.4 MB/s eta 0:00:17     |███████                         | 24.3 MB 3.7 MB/s eta 0:00:24     |███████▎                        | 24.8 MB 3.7 MB/s eta 0:00:24     |███████▎                        | 25.0 MB 3.7 MB/s eta 0:00:24     |████████▋                       | 29.3 MB 3.7 MB/s eta 0:00:22     |███████████                     | 37.8 MB 2.3 MB/s eta 0:00:32     |█████████████▎                  | 45.2 MB 3.3 MB/s eta 0:00:20     |█████████████▍                  | 45.8 MB 3.3 MB/s eta 0:00:20     |███████████████▏                | 51.6 MB 1.8 MB/s eta 0:00:33     |████████████████▋               | 56.7 MB 1.4 MB/s eta 0:00:39     |█████████████████▏              | 58.6 MB 1.5 MB/s eta 0:00:33     |██████████████████▎             | 62.5 MB 3.0 MB/s eta 0:00:16     |██████████████████▊             | 64.1 MB 3.0 MB/s eta 0:00:16     |████████████████████▏           | 68.7 MB 2.7 MB/s eta 0:00:15     |██████████████████████▏         | 75.8 MB 6.1 MB/s eta 0:00:06     |██████████████████████▎         | 76.0 MB 6.1 MB/s eta 0:00:06     |██████████████████████▋         | 77.4 MB 6.1 MB/s eta 0:00:06:00:04     |███████████████████████         | 78.2 MB 9.4 MB/s eta 0:00:04��        | 80.3 MB 9.4 MB/s eta 0:00:04     |████████████████████████        | 81.6 MB 1.0 MB/s eta 0:00:27     |████████████████████████▍       | 83.3 MB 1.0 MB/s eta 0:00:25MB/s eta 0:00:05     |██████████████████████████████▊ | 105.1 MB 4.2 MB/s eta 0:00:01     |██████████████████████████████▉ | 105.3 MB 4.2 MB/s eta 0:00:01     |███████████████████████████████ | 106.2 MB 5.0 MB/s eta 0:00:01\n",
      "\u001b[?25hRequirement already satisfied: numpy<2.0,>=1.14.5 in /home/pablo/anaconda3/envs/ppo/lib/python3.7/site-packages (from tensorflow==1.14.0) (1.18.3)\n",
      "Collecting termcolor>=1.1.0\n",
      "  Using cached termcolor-1.1.0.tar.gz (3.9 kB)\n",
      "Collecting protobuf>=3.6.1\n",
      "  Downloading protobuf-3.11.3-cp37-cp37m-manylinux1_x86_64.whl (1.3 MB)\n",
      "\u001b[K     |████████████████████████████████| 1.3 MB 3.3 MB/s eta 0:00:01\n",
      "\u001b[?25hCollecting tensorboard<1.15.0,>=1.14.0\n",
      "  Using cached tensorboard-1.14.0-py3-none-any.whl (3.1 MB)\n",
      "Collecting absl-py>=0.7.0\n",
      "  Using cached absl-py-0.9.0.tar.gz (104 kB)\n",
      "Collecting grpcio>=1.8.6\n",
      "  Downloading grpcio-1.28.1-cp37-cp37m-manylinux2010_x86_64.whl (2.8 MB)\n",
      "\u001b[K     |████████████████████████████████| 2.8 MB 7.3 MB/s eta 0:00:011\n",
      "\u001b[?25hCollecting astor>=0.6.0\n",
      "  Using cached astor-0.8.1-py2.py3-none-any.whl (27 kB)\n",
      "Collecting tensorflow-estimator<1.15.0rc0,>=1.14.0rc0\n",
      "  Using cached tensorflow_estimator-1.14.0-py2.py3-none-any.whl (488 kB)\n",
      "Collecting keras-applications>=1.0.6\n",
      "  Using cached Keras_Applications-1.0.8-py3-none-any.whl (50 kB)\n",
      "Collecting gast>=0.2.0\n",
      "  Using cached gast-0.3.3-py2.py3-none-any.whl (9.7 kB)\n",
      "Collecting wrapt>=1.11.1\n",
      "  Using cached wrapt-1.12.1.tar.gz (27 kB)\n",
      "Collecting keras-preprocessing>=1.0.5\n",
      "  Using cached Keras_Preprocessing-1.1.0-py2.py3-none-any.whl (41 kB)\n",
      "Requirement already satisfied: wheel>=0.26 in /home/pablo/anaconda3/envs/ppo/lib/python3.7/site-packages (from tensorflow==1.14.0) (0.34.2)\n",
      "Collecting google-pasta>=0.1.6\n",
      "  Using cached google_pasta-0.2.0-py3-none-any.whl (57 kB)\n",
      "Requirement already satisfied: six>=1.10.0 in /home/pablo/anaconda3/envs/ppo/lib/python3.7/site-packages (from tensorflow==1.14.0) (1.14.0)\n",
      "Requirement already satisfied: setuptools in /home/pablo/anaconda3/envs/ppo/lib/python3.7/site-packages (from protobuf>=3.6.1->tensorflow==1.14.0) (46.1.3.post20200330)\n",
      "Collecting markdown>=2.6.8\n",
      "  Using cached Markdown-3.2.1-py2.py3-none-any.whl (88 kB)\n",
      "Collecting werkzeug>=0.11.15\n",
      "  Using cached Werkzeug-1.0.1-py2.py3-none-any.whl (298 kB)\n",
      "Collecting h5py\n",
      "  Downloading h5py-2.10.0-cp37-cp37m-manylinux1_x86_64.whl (2.9 MB)\n",
      "\u001b[K     |████████████████████████████████| 2.9 MB 1.4 MB/s eta 0:00:01    |█                               | 92 kB 1.3 MB/s eta 0:00:03     |███▏                            | 286 kB 1.4 MB/s eta 0:00:02\n",
      "\u001b[?25hBuilding wheels for collected packages: termcolor, absl-py, wrapt\n",
      "  Building wheel for termcolor (setup.py) ... \u001b[?25ldone\n",
      "\u001b[?25h  Created wheel for termcolor: filename=termcolor-1.1.0-py3-none-any.whl size=4830 sha256=1a59eb351de6c0b448a08381b1ad9866ad4adac2e0904f22d650c579e15d47f8\n",
      "  Stored in directory: /home/pablo/.cache/pip/wheels/3f/e3/ec/8a8336ff196023622fbcb36de0c5a5c218cbb24111d1d4c7f2\n",
      "  Building wheel for absl-py (setup.py) ... \u001b[?25ldone\n",
      "\u001b[?25h  Created wheel for absl-py: filename=absl_py-0.9.0-py3-none-any.whl size=121931 sha256=d02ed8930025bd1f04c7f4ff1780bb3985b36b1f9816c31d828d90d121db6373\n",
      "  Stored in directory: /home/pablo/.cache/pip/wheels/cc/af/1a/498a24d0730ef484019e007bb9e8cef3ac00311a672c049a3e\n",
      "  Building wheel for wrapt (setup.py) ... \u001b[?25ldone\n",
      "\u001b[?25h  Created wheel for wrapt: filename=wrapt-1.12.1-cp37-cp37m-linux_x86_64.whl size=70969 sha256=535189731aefaa3a40656872a38dc7e97e136ca4ca633cb2fe6c4af67b1c7c38\n",
      "  Stored in directory: /home/pablo/.cache/pip/wheels/62/76/4c/aa25851149f3f6d9785f6c869387ad82b3fd37582fa8147ac6\n",
      "Successfully built termcolor absl-py wrapt\n",
      "Installing collected packages: termcolor, protobuf, grpcio, markdown, werkzeug, absl-py, tensorboard, astor, tensorflow-estimator, h5py, keras-applications, gast, wrapt, keras-preprocessing, google-pasta, tensorflow\n",
      "Successfully installed absl-py-0.9.0 astor-0.8.1 gast-0.3.3 google-pasta-0.2.0 grpcio-1.28.1 h5py-2.10.0 keras-applications-1.0.8 keras-preprocessing-1.1.0 markdown-3.2.1 protobuf-3.11.3 tensorboard-1.14.0 tensorflow-1.14.0 tensorflow-estimator-1.14.0 termcolor-1.1.0 werkzeug-1.0.1 wrapt-1.12.1\n"
     ]
    }
   ],
   "source": [
    "!pip install tensorflow==1.14.0\n",
    "#pip install tensorflow-gpu"
   ]
  },
  {
   "cell_type": "code",
   "execution_count": 2,
   "metadata": {},
   "outputs": [
    {
     "name": "stdout",
     "output_type": "stream",
     "text": [
      "Requirement already satisfied: pillow in /home/pablo/anaconda3/envs/ppo/lib/python3.7/site-packages (7.1.2)\n",
      "Requirement already satisfied: OpenCV-python in /home/pablo/anaconda3/envs/ppo/lib/python3.7/site-packages (4.2.0.34)\n",
      "Requirement already satisfied: numpy>=1.14.5 in /home/pablo/anaconda3/envs/ppo/lib/python3.7/site-packages (from OpenCV-python) (1.18.3)\n",
      "Note: you may need to restart the kernel to use updated packages.\n"
     ]
    }
   ],
   "source": [
    "pip install pillow OpenCV-python"
   ]
  },
  {
   "cell_type": "code",
   "execution_count": 3,
   "metadata": {},
   "outputs": [
    {
     "name": "stdout",
     "output_type": "stream",
     "text": [
      "Requirement already satisfied: matplotlib in /home/pablo/anaconda3/envs/ppo/lib/python3.7/site-packages (3.2.1)\n",
      "Requirement already satisfied: numpy>=1.11 in /home/pablo/anaconda3/envs/ppo/lib/python3.7/site-packages (from matplotlib) (1.18.3)\n",
      "Requirement already satisfied: kiwisolver>=1.0.1 in /home/pablo/anaconda3/envs/ppo/lib/python3.7/site-packages (from matplotlib) (1.2.0)\n",
      "Requirement already satisfied: pyparsing!=2.0.4,!=2.1.2,!=2.1.6,>=2.0.1 in /home/pablo/anaconda3/envs/ppo/lib/python3.7/site-packages (from matplotlib) (2.4.7)\n",
      "Requirement already satisfied: cycler>=0.10 in /home/pablo/anaconda3/envs/ppo/lib/python3.7/site-packages (from matplotlib) (0.10.0)\n",
      "Requirement already satisfied: python-dateutil>=2.1 in /home/pablo/anaconda3/envs/ppo/lib/python3.7/site-packages (from matplotlib) (2.8.1)\n",
      "Requirement already satisfied: six in /home/pablo/anaconda3/envs/ppo/lib/python3.7/site-packages (from cycler>=0.10->matplotlib) (1.14.0)\n",
      "Note: you may need to restart the kernel to use updated packages.\n"
     ]
    }
   ],
   "source": [
    "pip install matplotlib"
   ]
  },
  {
   "cell_type": "code",
   "execution_count": 4,
   "metadata": {},
   "outputs": [
    {
     "name": "stdout",
     "output_type": "stream",
     "text": [
      "Collecting pyglet==v1.3.2\n",
      "  Using cached pyglet-1.3.2-py2.py3-none-any.whl (1.0 MB)\n",
      "Requirement already satisfied: future in /home/pablo/anaconda3/envs/ppo/lib/python3.7/site-packages (from pyglet==v1.3.2) (0.18.2)\n",
      "\u001b[31mERROR: stable-baselines 2.10.0 has requirement gym[atari,classic_control]>=0.11, but you'll have gym 0.10.9 which is incompatible.\u001b[0m\n",
      "Installing collected packages: pyglet\n",
      "  Attempting uninstall: pyglet\n",
      "    Found existing installation: pyglet 1.5.0\n",
      "    Uninstalling pyglet-1.5.0:\n",
      "      Successfully uninstalled pyglet-1.5.0\n",
      "Successfully installed pyglet-1.3.2\n",
      "Note: you may need to restart the kernel to use updated packages.\n"
     ]
    }
   ],
   "source": [
    "pip install pyglet==v1.3.2"
   ]
  },
  {
   "cell_type": "code",
   "execution_count": 5,
   "metadata": {},
   "outputs": [
    {
     "name": "stdout",
     "output_type": "stream",
     "text": [
      "Collecting package metadata (current_repodata.json): done\n",
      "Solving environment: done\n",
      "\n",
      "## Package Plan ##\n",
      "\n",
      "  environment location: /home/pablo/anaconda3/envs/ppo\n",
      "\n",
      "  added / updated specs:\n",
      "    - swig\n",
      "\n",
      "\n",
      "The following packages will be downloaded:\n",
      "\n",
      "    package                    |            build\n",
      "    ---------------------------|-----------------\n",
      "    ca-certificates-2020.1.1   |                0         132 KB  anaconda\n",
      "    certifi-2020.4.5.1         |           py37_0         159 KB  anaconda\n",
      "    openssl-1.1.1g             |       h7b6447c_0         3.8 MB  anaconda\n",
      "    pcre-8.43                  |       he6710b0_0         260 KB  anaconda\n",
      "    ------------------------------------------------------------\n",
      "                                           Total:         4.3 MB\n",
      "\n",
      "The following NEW packages will be INSTALLED:\n",
      "\n",
      "  pcre               anaconda/linux-64::pcre-8.43-he6710b0_0\n",
      "  swig               pkgs/main/linux-64::swig-3.0.12-h38cdd7d_3\n",
      "\n",
      "The following packages will be SUPERSEDED by a higher-priority channel:\n",
      "\n",
      "  ca-certificates                                 pkgs/main --> anaconda\n",
      "  certifi                                         pkgs/main --> anaconda\n",
      "  openssl                                         pkgs/main --> anaconda\n",
      "\n",
      "\n",
      "\n",
      "Downloading and Extracting Packages\n",
      "pcre-8.43            | 260 KB    | ##################################### | 100% \n",
      "openssl-1.1.1g       | 3.8 MB    | ##################################### | 100% \n",
      "ca-certificates-2020 | 132 KB    | ##################################### | 100% \n",
      "certifi-2020.4.5.1   | 159 KB    | ##################################### | 100% \n",
      "Preparing transaction: done\n",
      "Verifying transaction: done\n",
      "Executing transaction: done\n",
      "\n",
      "Note: you may need to restart the kernel to use updated packages.\n"
     ]
    }
   ],
   "source": [
    "conda install -c anaconda swig"
   ]
  },
  {
   "cell_type": "code",
   "execution_count": 6,
   "metadata": {},
   "outputs": [
    {
     "name": "stdout",
     "output_type": "stream",
     "text": [
      "Obtaining file:///home/pablo/Desktop/Final2/gym-master\n",
      "Requirement already satisfied: scipy in /home/pablo/anaconda3/envs/ppo/lib/python3.7/site-packages (from gym==0.10.9) (1.4.1)\n",
      "Requirement already satisfied: numpy>=1.10.4 in /home/pablo/anaconda3/envs/ppo/lib/python3.7/site-packages (from gym==0.10.9) (1.18.3)\n",
      "Requirement already satisfied: requests>=2.0 in /home/pablo/anaconda3/envs/ppo/lib/python3.7/site-packages (from gym==0.10.9) (2.23.0)\n",
      "Requirement already satisfied: six in /home/pablo/anaconda3/envs/ppo/lib/python3.7/site-packages (from gym==0.10.9) (1.14.0)\n",
      "Requirement already satisfied: pyglet>=1.2.0 in /home/pablo/anaconda3/envs/ppo/lib/python3.7/site-packages (from gym==0.10.9) (1.3.2)\n",
      "Collecting box2d-py>=2.3.5\n",
      "  Using cached box2d_py-2.3.8-cp37-cp37m-manylinux1_x86_64.whl (448 kB)\n",
      "Requirement already satisfied: certifi>=2017.4.17 in /home/pablo/anaconda3/envs/ppo/lib/python3.7/site-packages (from requests>=2.0->gym==0.10.9) (2020.4.5.1)\n",
      "Requirement already satisfied: chardet<4,>=3.0.2 in /home/pablo/anaconda3/envs/ppo/lib/python3.7/site-packages (from requests>=2.0->gym==0.10.9) (3.0.4)\n",
      "Requirement already satisfied: idna<3,>=2.5 in /home/pablo/anaconda3/envs/ppo/lib/python3.7/site-packages (from requests>=2.0->gym==0.10.9) (2.9)\n",
      "Requirement already satisfied: urllib3!=1.25.0,!=1.25.1,<1.26,>=1.21.1 in /home/pablo/anaconda3/envs/ppo/lib/python3.7/site-packages (from requests>=2.0->gym==0.10.9) (1.25.8)\n",
      "Requirement already satisfied: future in /home/pablo/anaconda3/envs/ppo/lib/python3.7/site-packages (from pyglet>=1.2.0->gym==0.10.9) (0.18.2)\n",
      "\u001b[31mERROR: stable-baselines 2.10.0 has requirement gym[atari,classic_control]>=0.11, but you'll have gym 0.10.9 which is incompatible.\u001b[0m\n",
      "Installing collected packages: box2d-py, gym\n",
      "  Attempting uninstall: gym\n",
      "    Found existing installation: gym 0.10.9\n",
      "    Can't uninstall 'gym'. No files were found to uninstall.\n",
      "  Running setup.py develop for gym\n",
      "Successfully installed box2d-py-2.3.8 gym-0.17.1\n",
      "Note: you may need to restart the kernel to use updated packages.\n"
     ]
    }
   ],
   "source": [
    "pip install -e .\"[Box2D]\""
   ]
  },
  {
   "cell_type": "code",
   "execution_count": 1,
   "metadata": {},
   "outputs": [
    {
     "name": "stdout",
     "output_type": "stream",
     "text": [
      "Collecting pygame\n",
      "  Downloading pygame-1.9.6-cp37-cp37m-manylinux1_x86_64.whl (11.4 MB)\n",
      "\u001b[K     |████████████████████████████████| 11.4 MB 1.0 MB/s eta 0:00:01    |███████▎                        | 2.6 MB 3.8 MB/s eta 0:00:03     |███████████████▍                | 5.5 MB 783 kB/s eta 0:00:08     |█████████████████████▏          | 7.6 MB 1.7 MB/s eta 0:00:03\n",
      "\u001b[?25hInstalling collected packages: pygame\n",
      "Successfully installed pygame-1.9.6\n",
      "Note: you may need to restart the kernel to use updated packages.\n"
     ]
    }
   ],
   "source": [
    "pip install pygame"
   ]
  },
  {
   "cell_type": "code",
   "execution_count": null,
   "metadata": {},
   "outputs": [],
   "source": []
  }
 ],
 "metadata": {
  "kernelspec": {
   "display_name": "Python [conda env:ppo]",
   "language": "python",
   "name": "conda-env-ppo-py"
  },
  "language_info": {
   "codemirror_mode": {
    "name": "ipython",
    "version": 3
   },
   "file_extension": ".py",
   "mimetype": "text/x-python",
   "name": "python",
   "nbconvert_exporter": "python",
   "pygments_lexer": "ipython3",
   "version": "3.7.7"
  }
 },
 "nbformat": 4,
 "nbformat_minor": 4
}
