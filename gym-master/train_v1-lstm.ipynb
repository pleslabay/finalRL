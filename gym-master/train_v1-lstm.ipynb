{
 "cells": [
  {
   "cell_type": "code",
   "execution_count": 1,
   "metadata": {},
   "outputs": [],
   "source": [
    "import gym"
   ]
  },
  {
   "cell_type": "code",
   "execution_count": 2,
   "metadata": {},
   "outputs": [
    {
     "name": "stderr",
     "output_type": "stream",
     "text": [
      "/home/pablo/anaconda3/envs/ppo/lib/python3.7/site-packages/tensorflow/python/framework/dtypes.py:516: FutureWarning: Passing (type, 1) or '1type' as a synonym of type is deprecated; in a future version of numpy, it will be understood as (type, (1,)) / '(1,)type'.\n",
      "  _np_qint8 = np.dtype([(\"qint8\", np.int8, 1)])\n",
      "/home/pablo/anaconda3/envs/ppo/lib/python3.7/site-packages/tensorflow/python/framework/dtypes.py:517: FutureWarning: Passing (type, 1) or '1type' as a synonym of type is deprecated; in a future version of numpy, it will be understood as (type, (1,)) / '(1,)type'.\n",
      "  _np_quint8 = np.dtype([(\"quint8\", np.uint8, 1)])\n",
      "/home/pablo/anaconda3/envs/ppo/lib/python3.7/site-packages/tensorflow/python/framework/dtypes.py:518: FutureWarning: Passing (type, 1) or '1type' as a synonym of type is deprecated; in a future version of numpy, it will be understood as (type, (1,)) / '(1,)type'.\n",
      "  _np_qint16 = np.dtype([(\"qint16\", np.int16, 1)])\n",
      "/home/pablo/anaconda3/envs/ppo/lib/python3.7/site-packages/tensorflow/python/framework/dtypes.py:519: FutureWarning: Passing (type, 1) or '1type' as a synonym of type is deprecated; in a future version of numpy, it will be understood as (type, (1,)) / '(1,)type'.\n",
      "  _np_quint16 = np.dtype([(\"quint16\", np.uint16, 1)])\n",
      "/home/pablo/anaconda3/envs/ppo/lib/python3.7/site-packages/tensorflow/python/framework/dtypes.py:520: FutureWarning: Passing (type, 1) or '1type' as a synonym of type is deprecated; in a future version of numpy, it will be understood as (type, (1,)) / '(1,)type'.\n",
      "  _np_qint32 = np.dtype([(\"qint32\", np.int32, 1)])\n",
      "/home/pablo/anaconda3/envs/ppo/lib/python3.7/site-packages/tensorflow/python/framework/dtypes.py:525: FutureWarning: Passing (type, 1) or '1type' as a synonym of type is deprecated; in a future version of numpy, it will be understood as (type, (1,)) / '(1,)type'.\n",
      "  np_resource = np.dtype([(\"resource\", np.ubyte, 1)])\n",
      "/home/pablo/anaconda3/envs/ppo/lib/python3.7/site-packages/tensorboard/compat/tensorflow_stub/dtypes.py:541: FutureWarning: Passing (type, 1) or '1type' as a synonym of type is deprecated; in a future version of numpy, it will be understood as (type, (1,)) / '(1,)type'.\n",
      "  _np_qint8 = np.dtype([(\"qint8\", np.int8, 1)])\n",
      "/home/pablo/anaconda3/envs/ppo/lib/python3.7/site-packages/tensorboard/compat/tensorflow_stub/dtypes.py:542: FutureWarning: Passing (type, 1) or '1type' as a synonym of type is deprecated; in a future version of numpy, it will be understood as (type, (1,)) / '(1,)type'.\n",
      "  _np_quint8 = np.dtype([(\"quint8\", np.uint8, 1)])\n",
      "/home/pablo/anaconda3/envs/ppo/lib/python3.7/site-packages/tensorboard/compat/tensorflow_stub/dtypes.py:543: FutureWarning: Passing (type, 1) or '1type' as a synonym of type is deprecated; in a future version of numpy, it will be understood as (type, (1,)) / '(1,)type'.\n",
      "  _np_qint16 = np.dtype([(\"qint16\", np.int16, 1)])\n",
      "/home/pablo/anaconda3/envs/ppo/lib/python3.7/site-packages/tensorboard/compat/tensorflow_stub/dtypes.py:544: FutureWarning: Passing (type, 1) or '1type' as a synonym of type is deprecated; in a future version of numpy, it will be understood as (type, (1,)) / '(1,)type'.\n",
      "  _np_quint16 = np.dtype([(\"quint16\", np.uint16, 1)])\n",
      "/home/pablo/anaconda3/envs/ppo/lib/python3.7/site-packages/tensorboard/compat/tensorflow_stub/dtypes.py:545: FutureWarning: Passing (type, 1) or '1type' as a synonym of type is deprecated; in a future version of numpy, it will be understood as (type, (1,)) / '(1,)type'.\n",
      "  _np_qint32 = np.dtype([(\"qint32\", np.int32, 1)])\n",
      "/home/pablo/anaconda3/envs/ppo/lib/python3.7/site-packages/tensorboard/compat/tensorflow_stub/dtypes.py:550: FutureWarning: Passing (type, 1) or '1type' as a synonym of type is deprecated; in a future version of numpy, it will be understood as (type, (1,)) / '(1,)type'.\n",
      "  np_resource = np.dtype([(\"resource\", np.ubyte, 1)])\n"
     ]
    }
   ],
   "source": [
    "from gym.envs.box2d import CarRacing\n",
    "from stable_baselines.common.vec_env import DummyVecEnv"
   ]
  },
  {
   "cell_type": "code",
   "execution_count": 3,
   "metadata": {},
   "outputs": [
    {
     "name": "stdout",
     "output_type": "stream",
     "text": [
      "Track generation: 1102..1383 -> 281-tiles track\n",
      "retry to generate track (normal if there are not many of this messages)\n",
      "Track generation: 1200..1504 -> 304-tiles track\n"
     ]
    }
   ],
   "source": [
    "#std env from Mike\n",
    "if __name__=='__main__':\n",
    "    env0 = lambda :  CarRacing(\n",
    "        grayscale=1,\n",
    "        show_info_panel=1,\n",
    "        discretize_actions=\"hard\",\n",
    "        frames_per_state=4,\n",
    "        num_lanes=1,\n",
    "        num_tracks=1,\n",
    "        )\n",
    "    \n",
    "    #env = getattr(environments, env)\n",
    "    env0 = DummyVecEnv([env0])\n",
    "\n",
    "    obs = env0.reset()\n"
   ]
  },
  {
   "cell_type": "code",
   "execution_count": 4,
   "metadata": {},
   "outputs": [
    {
     "name": "stdout",
     "output_type": "stream",
     "text": [
      "Discrete(5)\n",
      "Box(96, 96, 4)\n"
     ]
    }
   ],
   "source": [
    "print(env0.action_space)\n",
    "print(env0.observation_space)"
   ]
  },
  {
   "cell_type": "code",
   "execution_count": 5,
   "metadata": {},
   "outputs": [
    {
     "name": "stdout",
     "output_type": "stream",
     "text": [
      "discrete\n",
      "4\n"
     ]
    }
   ],
   "source": [
    "try:\n",
    "    print(env0.action_space.high)\n",
    "    print(env0.action_space.low)\n",
    "except:\n",
    "    print('discrete')\n",
    "    print(env0.action_space.sample())\n",
    "    "
   ]
  },
  {
   "cell_type": "markdown",
   "metadata": {},
   "source": [
    "print(env0.observation_space.high)\n",
    "print(env0.observation_space.low)"
   ]
  },
  {
   "cell_type": "code",
   "execution_count": 6,
   "metadata": {},
   "outputs": [],
   "source": [
    "env0.close()"
   ]
  },
  {
   "cell_type": "code",
   "execution_count": null,
   "metadata": {},
   "outputs": [],
   "source": []
  },
  {
   "cell_type": "code",
   "execution_count": 7,
   "metadata": {},
   "outputs": [],
   "source": [
    "from stable_baselines.common.policies import CnnPolicy, CnnLstmPolicy, CnnLnLstmPolicy\n",
    "from stable_baselines.common.vec_env import DummyVecEnv\n",
    "from stable_baselines.common import make_vec_env\n",
    "from stable_baselines import PPO2 #, PPO1\n"
   ]
  },
  {
   "cell_type": "code",
   "execution_count": 8,
   "metadata": {},
   "outputs": [],
   "source": [
    "#training env\n",
    "if __name__=='__main__':\n",
    "    env1 = lambda :  CarRacing(\n",
    "        grayscale=1,\n",
    "        show_info_panel=0,\n",
    "        discretize_actions=\"hard\",\n",
    "        frames_per_state=4,\n",
    "        num_lanes=1,\n",
    "        num_tracks=1,\n",
    "        max_time_out=2.0,\n",
    "        max_step_reward=1,\n",
    "        allow_outside=True,\n",
    "        )\n"
   ]
  },
  {
   "cell_type": "code",
   "execution_count": 9,
   "metadata": {},
   "outputs": [
    {
     "name": "stdout",
     "output_type": "stream",
     "text": [
      "Track generation: 1031..1293 -> 262-tiles track\n",
      "(1, 96, 96, 4)\n"
     ]
    }
   ],
   "source": [
    "# multiprocess environment\n",
    "paralelo=1\n",
    "\n",
    "if paralelo==1:\n",
    "    env1 = DummyVecEnv([env1])\n",
    "    #env1 = gym.make(env1)\n",
    "else:\n",
    "    env1 = make_vec_env(env1, n_envs=paralelo)\n",
    "\n",
    "obs = env1.reset()\n",
    "print(obs.shape)"
   ]
  },
  {
   "cell_type": "code",
   "execution_count": null,
   "metadata": {},
   "outputs": [
    {
     "name": "stdout",
     "output_type": "stream",
     "text": [
      "WARNING:tensorflow:From /home/pablo/anaconda3/envs/ppo/lib/python3.7/site-packages/stable_baselines/common/tf_util.py:191: The name tf.ConfigProto is deprecated. Please use tf.compat.v1.ConfigProto instead.\n",
      "\n",
      "WARNING:tensorflow:From /home/pablo/anaconda3/envs/ppo/lib/python3.7/site-packages/stable_baselines/common/tf_util.py:200: The name tf.Session is deprecated. Please use tf.compat.v1.Session instead.\n",
      "\n",
      "WARNING:tensorflow:From /home/pablo/anaconda3/envs/ppo/lib/python3.7/site-packages/stable_baselines/common/policies.py:116: The name tf.variable_scope is deprecated. Please use tf.compat.v1.variable_scope instead.\n",
      "\n",
      "WARNING:tensorflow:From /home/pablo/anaconda3/envs/ppo/lib/python3.7/site-packages/stable_baselines/common/input.py:25: The name tf.placeholder is deprecated. Please use tf.compat.v1.placeholder instead.\n",
      "\n",
      "WARNING:tensorflow:From /home/pablo/anaconda3/envs/ppo/lib/python3.7/site-packages/stable_baselines/common/tf_layers.py:103: The name tf.get_variable is deprecated. Please use tf.compat.v1.get_variable instead.\n",
      "\n",
      "WARNING:tensorflow:From /home/pablo/anaconda3/envs/ppo/lib/python3.7/site-packages/stable_baselines/ppo2/ppo2.py:190: The name tf.summary.scalar is deprecated. Please use tf.compat.v1.summary.scalar instead.\n",
      "\n",
      "WARNING:tensorflow:From /home/pablo/anaconda3/envs/ppo/lib/python3.7/site-packages/tensorflow/python/ops/math_grad.py:1250: add_dispatch_support.<locals>.wrapper (from tensorflow.python.ops.array_ops) is deprecated and will be removed in a future version.\n",
      "Instructions for updating:\n",
      "Use tf.where in 2.0, which has the same broadcast rule as np.where\n"
     ]
    }
   ],
   "source": [
    "batch=1000\n",
    "updates=250\n",
    "cont=False\n",
    "\n",
    "if not cont:\n",
    "    model = PPO2(CnnLnLstmPolicy, env1, verbose=1, n_steps=batch, n_cpu_tf_sess=2, nminibatches=paralelo) \n",
    "    #, max_grad_norm=1)\n",
    "    #model = PPO2(CnnLstmPolicy, env1, verbose=1, n_steps=batch, n_cpu_tf_sess=2, nminibatches=paralelo)\n",
    "\n",
    "model.learn(total_timesteps=updates*batch*paralelo)\n"
   ]
  },
  {
   "cell_type": "code",
   "execution_count": null,
   "metadata": {},
   "outputs": [],
   "source": [
    "import pickle\n",
    "file='ppo2_v1_mike_lnlstm_4f_bs1000'\n",
    "\n",
    "model.save(file, cloudpickle=True)\n",
    "param_list=model.get_parameter_list()\n",
    "param=model.get_parameters()\n",
    "\n",
    "f = open(file+'_param.pkl',\"wb\")\n",
    "#pickle.dump(param_list,f)\n",
    "pickle.dump(param,f)\n",
    "f.close()"
   ]
  },
  {
   "cell_type": "code",
   "execution_count": null,
   "metadata": {},
   "outputs": [],
   "source": [
    "#batch=512\n",
    "updates=250\n",
    "cont=True\n",
    "\n",
    "if not cont:\n",
    "    model = PPO2(CnnLnLstmPolicy, env1, verbose=1, n_steps=batch, n_cpu_tf_sess=2, nminibatches=paralelo) \n",
    "    #, max_grad_norm=1)\n",
    "    #model = PPO2(CnnLstmPolicy, env1, verbose=1, n_steps=batch, n_cpu_tf_sess=2, nminibatches=paralelo)\n",
    "\n",
    "model.learn(total_timesteps=updates*batch*paralelo)\n"
   ]
  },
  {
   "cell_type": "code",
   "execution_count": null,
   "metadata": {},
   "outputs": [],
   "source": [
    "#import pickle\n",
    "\n",
    "model.save(file+'II', cloudpickle=True)\n",
    "param_list=model.get_parameter_list()\n",
    "param=model.get_parameters()\n",
    "\n",
    "f = open(file+'II_param.pkl',\"wb\")\n",
    "#pickle.dump(param_list,f)\n",
    "pickle.dump(param,f)\n",
    "f.close()"
   ]
  },
  {
   "cell_type": "code",
   "execution_count": null,
   "metadata": {},
   "outputs": [],
   "source": [
    "env1.close()"
   ]
  },
  {
   "cell_type": "code",
   "execution_count": null,
   "metadata": {},
   "outputs": [],
   "source": []
  },
  {
   "cell_type": "markdown",
   "metadata": {},
   "source": [
    "model2 = PPO2.load('ppo2_v1_mike_lstm_para4.pkl')\n",
    "#model.set_env(env)\n"
   ]
  },
  {
   "cell_type": "code",
   "execution_count": null,
   "metadata": {},
   "outputs": [],
   "source": [
    "#play env\n",
    "if __name__=='__main__':\n",
    "    env2 = lambda :  CarRacing(\n",
    "        grayscale=1,\n",
    "        show_info_panel=1,\n",
    "        discretize_actions=\"hard\",\n",
    "        frames_per_state=4,\n",
    "        num_lanes=1,\n",
    "        num_tracks=1,\n",
    "        )\n",
    "\n",
    "    #env = getattr(environments, env)\n",
    "    env2 = DummyVecEnv([env2])\n",
    "\n",
    "    obs = env2.reset()\n",
    "    \n",
    "    done = False\n",
    "    pasos = 0\n",
    "    _states=None\n",
    "    while not done:\n",
    "        action, _states = model.predict(obs, _states)\n",
    "        obs, reward, done, info = env2.step(action)\n",
    "        env2.render()\n",
    "        pasos+=1\n"
   ]
  },
  {
   "cell_type": "code",
   "execution_count": null,
   "metadata": {},
   "outputs": [],
   "source": [
    "env2.close()"
   ]
  },
  {
   "cell_type": "code",
   "execution_count": null,
   "metadata": {},
   "outputs": [],
   "source": [
    "obs.shape"
   ]
  },
  {
   "cell_type": "code",
   "execution_count": null,
   "metadata": {},
   "outputs": [],
   "source": [
    "print(reward, done, pasos)\n",
    "print(info)"
   ]
  },
  {
   "cell_type": "code",
   "execution_count": null,
   "metadata": {},
   "outputs": [],
   "source": [
    "print(action, _states)"
   ]
  },
  {
   "cell_type": "code",
   "execution_count": null,
   "metadata": {},
   "outputs": [],
   "source": []
  }
 ],
 "metadata": {
  "kernelspec": {
   "display_name": "Python [conda env:ppo]",
   "language": "python",
   "name": "conda-env-ppo-py"
  },
  "language_info": {
   "codemirror_mode": {
    "name": "ipython",
    "version": 3
   },
   "file_extension": ".py",
   "mimetype": "text/x-python",
   "name": "python",
   "nbconvert_exporter": "python",
   "pygments_lexer": "ipython3",
   "version": "3.7.7"
  }
 },
 "nbformat": 4,
 "nbformat_minor": 4
}
