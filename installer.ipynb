{
 "cells": [
  {
   "cell_type": "code",
   "execution_count": 1,
   "metadata": {},
   "outputs": [
    {
     "name": "stdout",
     "output_type": "stream",
     "text": [
      "Collecting cmake\n",
      "  Downloading cmake-3.17.1-py3-none-manylinux1_x86_64.whl (17.6 MB)\n",
      "\u001b[K     |████████████████████████████████| 17.6 MB 136 kB/s eta 0:00:01     |█████████████████████████▍      | 14.0 MB 246 kB/s eta 0:00:15     |███████████████████████████████▍| 17.2 MB 268 kB/s eta 0:00:02\n",
      "\u001b[?25hInstalling collected packages: cmake\n",
      "Successfully installed cmake-3.17.1\n"
     ]
    }
   ],
   "source": [
    "!pip install cmake"
   ]
  },
  {
   "cell_type": "code",
   "execution_count": 2,
   "metadata": {},
   "outputs": [
    {
     "name": "stdout",
     "output_type": "stream",
     "text": [
      "Collecting stable-baselines\n",
      "  Downloading stable_baselines-2.10.0-py3-none-any.whl (248 kB)\n",
      "\u001b[K     |████████████████████████████████| 248 kB 69 kB/s eta 0:00:01\n",
      "\u001b[?25hRequirement already satisfied: numpy in /home/pablo/anaconda3/envs/rl/lib/python3.7/site-packages (from stable-baselines) (1.18.1)\n",
      "Requirement already satisfied: matplotlib in /home/pablo/anaconda3/envs/rl/lib/python3.7/site-packages (from stable-baselines) (3.1.3)\n",
      "Requirement already satisfied: gym[atari,classic_control]>=0.11 in /home/pablo/anaconda3/envs/rl/lib/python3.7/site-packages (from stable-baselines) (0.17.1)\n",
      "Requirement already satisfied: cloudpickle>=0.5.5 in /home/pablo/anaconda3/envs/rl/lib/python3.7/site-packages (from stable-baselines) (1.3.0)\n",
      "Requirement already satisfied: scipy in /home/pablo/anaconda3/envs/rl/lib/python3.7/site-packages (from stable-baselines) (1.4.1)\n",
      "Collecting joblib\n",
      "  Downloading joblib-0.14.1-py2.py3-none-any.whl (294 kB)\n",
      "\u001b[K     |████████████████████████████████| 294 kB 123 kB/s eta 0:00:01\n",
      "\u001b[?25hCollecting opencv-python\n",
      "  Downloading opencv_python-4.2.0.34-cp37-cp37m-manylinux1_x86_64.whl (28.2 MB)\n",
      "\u001b[K     |████████████████████████████████| 28.2 MB 116 kB/s eta 0:00:01    |████▏                           | 3.6 MB 414 kB/s eta 0:01:00     |█████████████████████████       | 22.0 MB 351 kB/s eta 0:00:18     |█████████████████████████████▎  | 25.7 MB 314 kB/s eta 0:00:08     |██████████████████████████████▎ | 26.7 MB 289 kB/s eta 0:00:06     |██████████████████████████████▊ | 27.1 MB 331 kB/s eta 0:00:04     |███████████████████████████████ | 27.3 MB 300 kB/s eta 0:00:03\n",
      "\u001b[?25hRequirement already satisfied: pandas in /home/pablo/anaconda3/envs/rl/lib/python3.7/site-packages (from stable-baselines) (1.0.3)\n",
      "Requirement already satisfied: kiwisolver>=1.0.1 in /home/pablo/anaconda3/envs/rl/lib/python3.7/site-packages (from matplotlib->stable-baselines) (1.1.0)\n",
      "Requirement already satisfied: pyparsing!=2.0.4,!=2.1.2,!=2.1.6,>=2.0.1 in /home/pablo/anaconda3/envs/rl/lib/python3.7/site-packages (from matplotlib->stable-baselines) (2.4.6)\n",
      "Requirement already satisfied: python-dateutil>=2.1 in /home/pablo/anaconda3/envs/rl/lib/python3.7/site-packages (from matplotlib->stable-baselines) (2.8.1)\n",
      "Requirement already satisfied: cycler>=0.10 in /home/pablo/anaconda3/envs/rl/lib/python3.7/site-packages (from matplotlib->stable-baselines) (0.10.0)\n",
      "Requirement already satisfied: six in /home/pablo/anaconda3/envs/rl/lib/python3.7/site-packages (from gym[atari,classic_control]>=0.11->stable-baselines) (1.14.0)\n",
      "Requirement already satisfied: pyglet<=1.5.0,>=1.4.0 in /home/pablo/anaconda3/envs/rl/lib/python3.7/site-packages (from gym[atari,classic_control]>=0.11->stable-baselines) (1.5.0)\n",
      "Collecting atari-py~=0.2.0; extra == \"atari\"\n",
      "  Downloading atari_py-0.2.6-cp37-cp37m-manylinux1_x86_64.whl (2.8 MB)\n",
      "\u001b[K     |████████████████████████████████| 2.8 MB 84 kB/s  eta 0:00:01     |██▋                             | 225 kB 421 kB/s eta 0:00:07     |███████████████████████████████▏| 2.7 MB 358 kB/s eta 0:00:01\n",
      "\u001b[?25hRequirement already satisfied: Pillow; extra == \"atari\" in /home/pablo/anaconda3/envs/rl/lib/python3.7/site-packages (from gym[atari,classic_control]>=0.11->stable-baselines) (7.0.0)\n",
      "Requirement already satisfied: pytz>=2017.2 in /home/pablo/anaconda3/envs/rl/lib/python3.7/site-packages (from pandas->stable-baselines) (2019.3)\n",
      "Requirement already satisfied: setuptools in /home/pablo/anaconda3/envs/rl/lib/python3.7/site-packages (from kiwisolver>=1.0.1->matplotlib->stable-baselines) (46.1.1.post20200323)\n",
      "Requirement already satisfied: future in /home/pablo/anaconda3/envs/rl/lib/python3.7/site-packages (from pyglet<=1.5.0,>=1.4.0->gym[atari,classic_control]>=0.11->stable-baselines) (0.18.2)\n",
      "Installing collected packages: joblib, opencv-python, stable-baselines, atari-py\n",
      "Successfully installed atari-py-0.2.6 joblib-0.14.1 opencv-python-4.2.0.34 stable-baselines-2.10.0\n"
     ]
    }
   ],
   "source": [
    "!pip install stable-baselines"
   ]
  },
  {
   "cell_type": "code",
   "execution_count": 4,
   "metadata": {},
   "outputs": [
    {
     "name": "stdout",
     "output_type": "stream",
     "text": [
      "Collecting package metadata (current_repodata.json): done\n",
      "Solving environment: done\n",
      "\n",
      "## Package Plan ##\n",
      "\n",
      "  environment location: /home/pablo/anaconda3\n",
      "\n",
      "  added / updated specs:\n",
      "    - nb_conda\n",
      "\n",
      "\n",
      "The following packages will be downloaded:\n",
      "\n",
      "    package                    |            build\n",
      "    ---------------------------|-----------------\n",
      "    nb_conda-2.2.1             |           py37_0          32 KB\n",
      "    nb_conda_kernels-2.2.3     |           py37_0          39 KB\n",
      "    ------------------------------------------------------------\n",
      "                                           Total:          71 KB\n",
      "\n",
      "The following NEW packages will be INSTALLED:\n",
      "\n",
      "  nb_conda           pkgs/main/linux-64::nb_conda-2.2.1-py37_0\n",
      "  nb_conda_kernels   pkgs/main/linux-64::nb_conda_kernels-2.2.3-py37_0\n",
      "\n",
      "\n",
      "\n",
      "Downloading and Extracting Packages\n",
      "nb_conda-2.2.1       | 32 KB     | ##################################### | 100% \n",
      "nb_conda_kernels-2.2 | 39 KB     | ##################################### | 100% \n",
      "Preparing transaction: done\n",
      "Verifying transaction: done\n",
      "Executing transaction: | b'Enabling nb_conda_kernels...\\nStatus: enabled\\n'\n",
      "| b'Enabling notebook extension nb_conda/main...\\n      - Validating: \\x1b[32mOK\\x1b[0m\\nEnabling tree extension nb_conda/tree...\\n      - Validating: \\x1b[32mOK\\x1b[0m\\nEnabling: nb_conda\\n- Writing config: /home/pablo/anaconda3/etc/jupyter\\n    - Validating...\\n      nb_conda 2.2.1 \\x1b[32mOK\\x1b[0m\\n'\n",
      "done\n"
     ]
    }
   ],
   "source": [
    "!conda install nb_conda -y"
   ]
  },
  {
   "cell_type": "code",
   "execution_count": null,
   "metadata": {},
   "outputs": [],
   "source": []
  }
 ],
 "metadata": {
  "kernelspec": {
   "display_name": "Python [conda env:rl]",
   "language": "python",
   "name": "conda-env-rl-py"
  },
  "language_info": {
   "codemirror_mode": {
    "name": "ipython",
    "version": 3
   },
   "file_extension": ".py",
   "mimetype": "text/x-python",
   "name": "python",
   "nbconvert_exporter": "python",
   "pygments_lexer": "ipython3",
   "version": "3.7.7"
  }
 },
 "nbformat": 4,
 "nbformat_minor": 4
}
